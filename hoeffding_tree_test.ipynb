{
 "cells": [
  {
   "cell_type": "code",
   "execution_count": 3,
   "metadata": {},
   "outputs": [
    {
     "ename": "AttributeError",
     "evalue": "'TrumpApproval' object has no attribute 'columns'",
     "output_type": "error",
     "traceback": [
      "\u001b[1;31m---------------------------------------------------------------------------\u001b[0m",
      "\u001b[1;31mAttributeError\u001b[0m                            Traceback (most recent call last)",
      "Cell \u001b[1;32mIn[3], line 29\u001b[0m\n\u001b[0;32m     26\u001b[0m n_samples \u001b[38;5;241m=\u001b[39m \u001b[38;5;241m0\u001b[39m\n\u001b[0;32m     28\u001b[0m \u001b[38;5;66;03m# Iterate through the dataset\u001b[39;00m\n\u001b[1;32m---> 29\u001b[0m \u001b[38;5;28;43;01mfor\u001b[39;49;00m\u001b[43m \u001b[49m\u001b[43mx\u001b[49m\u001b[43m,\u001b[49m\u001b[43m \u001b[49m\u001b[43my\u001b[49m\u001b[43m \u001b[49m\u001b[38;5;129;43;01min\u001b[39;49;00m\u001b[43m \u001b[49m\u001b[43mstream\u001b[49m\u001b[38;5;241;43m.\u001b[39;49m\u001b[43miter_pandas\u001b[49m\u001b[43m(\u001b[49m\u001b[43mdataset\u001b[49m\u001b[43m)\u001b[49m\u001b[43m:\u001b[49m\n\u001b[0;32m     30\u001b[0m \u001b[43m    \u001b[49m\u001b[38;5;66;43;03m# Predict the current instance\u001b[39;49;00m\n\u001b[0;32m     31\u001b[0m \u001b[43m    \u001b[49m\u001b[43my_pred\u001b[49m\u001b[43m \u001b[49m\u001b[38;5;241;43m=\u001b[39;49m\u001b[43m \u001b[49m\u001b[43mmodel\u001b[49m\u001b[38;5;241;43m.\u001b[39;49m\u001b[43mpredict_one\u001b[49m\u001b[43m(\u001b[49m\u001b[43mx\u001b[49m\u001b[43m)\u001b[49m\n\u001b[0;32m     33\u001b[0m \u001b[43m    \u001b[49m\u001b[38;5;66;43;03m# Update the metric with the true and predicted value\u001b[39;49;00m\n",
      "File \u001b[1;32mc:\\Users\\Hossein_Haeri\\AppData\\Local\\Programs\\Python\\Python312\\Lib\\site-packages\\river\\stream\\iter_pandas.py:44\u001b[0m, in \u001b[0;36miter_pandas\u001b[1;34m(X, y, **kwargs)\u001b[0m\n\u001b[0;32m      8\u001b[0m \u001b[38;5;28;01mdef\u001b[39;00m \u001b[38;5;21miter_pandas\u001b[39m(\n\u001b[0;32m      9\u001b[0m     X: pd\u001b[38;5;241m.\u001b[39mDataFrame, y: pd\u001b[38;5;241m.\u001b[39mSeries \u001b[38;5;241m|\u001b[39m pd\u001b[38;5;241m.\u001b[39mDataFrame \u001b[38;5;241m|\u001b[39m \u001b[38;5;28;01mNone\u001b[39;00m \u001b[38;5;241m=\u001b[39m \u001b[38;5;28;01mNone\u001b[39;00m, \u001b[38;5;241m*\u001b[39m\u001b[38;5;241m*\u001b[39mkwargs\n\u001b[0;32m     10\u001b[0m ) \u001b[38;5;241m-\u001b[39m\u001b[38;5;241m>\u001b[39m base\u001b[38;5;241m.\u001b[39mtyping\u001b[38;5;241m.\u001b[39mStream:\n\u001b[0;32m     11\u001b[0m \u001b[38;5;250m    \u001b[39m\u001b[38;5;124;03m\"\"\"Iterates over the rows of a `pandas.DataFrame`.\u001b[39;00m\n\u001b[0;32m     12\u001b[0m \n\u001b[0;32m     13\u001b[0m \u001b[38;5;124;03m    Parameters\u001b[39;00m\n\u001b[1;32m   (...)\u001b[0m\n\u001b[0;32m     41\u001b[0m \n\u001b[0;32m     42\u001b[0m \u001b[38;5;124;03m    \"\"\"\u001b[39;00m\n\u001b[1;32m---> 44\u001b[0m     kwargs[\u001b[38;5;124m\"\u001b[39m\u001b[38;5;124mfeature_names\u001b[39m\u001b[38;5;124m\"\u001b[39m] \u001b[38;5;241m=\u001b[39m \u001b[43mX\u001b[49m\u001b[38;5;241;43m.\u001b[39;49m\u001b[43mcolumns\u001b[49m\n\u001b[0;32m     45\u001b[0m     \u001b[38;5;28;01mif\u001b[39;00m \u001b[38;5;28misinstance\u001b[39m(y, pd\u001b[38;5;241m.\u001b[39mDataFrame):\n\u001b[0;32m     46\u001b[0m         kwargs[\u001b[38;5;124m\"\u001b[39m\u001b[38;5;124mtarget_names\u001b[39m\u001b[38;5;124m\"\u001b[39m] \u001b[38;5;241m=\u001b[39m y\u001b[38;5;241m.\u001b[39mcolumns\n",
      "\u001b[1;31mAttributeError\u001b[0m: 'TrumpApproval' object has no attribute 'columns'"
     ]
    }
   ],
   "source": [
    "from river import datasets\n",
    "from river import metrics\n",
    "from river import tree\n",
    "from river import preprocessing\n",
    "from river import stream\n",
    "\n",
    "# Example with TrumpApproval dataset\n",
    "dataset = datasets.TrumpApproval()\n",
    "\n",
    "# Initialize the model\n",
    "model = (\n",
    "    preprocessing.StandardScaler() |\n",
    "    tree.HoeffdingTreeRegressor(\n",
    "        grace_period=100,\n",
    "        model_selector_decay=0.9\n",
    "    )\n",
    ")\n",
    "\n",
    "# Initialize the metric\n",
    "metric = metrics.MAE()\n",
    "\n",
    "# To hold the progressive metric\n",
    "progressive_metric = 0\n",
    "\n",
    "# Counter for number of samples\n",
    "n_samples = 0\n",
    "\n",
    "# Iterate through the dataset\n",
    "for x, y in stream.iter_pandas(dataset):\n",
    "    # Predict the current instance\n",
    "    y_pred = model.predict_one(x)\n",
    "    \n",
    "    # Update the metric with the true and predicted value\n",
    "    if y_pred is not None:\n",
    "        metric.update(y, y_pred)\n",
    "    \n",
    "    # Train the model with the current instance\n",
    "    model.learn_one(x, y)\n",
    "    \n",
    "    # Update the progressive metric\n",
    "    progressive_metric += metric.get()\n",
    "    n_samples += 1\n",
    "\n",
    "# Print the final metric\n",
    "print(f'Final MAE after {n_samples} samples: {progressive_metric / n_samples:.4f}')\n"
   ]
  }
 ],
 "metadata": {
  "kernelspec": {
   "display_name": "Python 3",
   "language": "python",
   "name": "python3"
  },
  "language_info": {
   "codemirror_mode": {
    "name": "ipython",
    "version": 3
   },
   "file_extension": ".py",
   "mimetype": "text/x-python",
   "name": "python",
   "nbconvert_exporter": "python",
   "pygments_lexer": "ipython3",
   "version": "3.12.2"
  }
 },
 "nbformat": 4,
 "nbformat_minor": 2
}
