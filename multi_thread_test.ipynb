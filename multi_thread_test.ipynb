{
 "cells": [
  {
   "cell_type": "code",
   "execution_count": 8,
   "metadata": {},
   "outputs": [
    {
     "name": "stdout",
     "output_type": "stream",
     "text": [
      "All items have been processed.\n"
     ]
    }
   ],
   "source": [
    "import threading\n",
    "from queue import Queue\n",
    "import random\n",
    "import time\n",
    "import numpy as np\n",
    "import threading\n",
    "\n",
    "class Sample:\n",
    "    def __init__(self, id, value=None):\n",
    "        self.key = id\n",
    "        self.value = value\n",
    "        self.lock = threading.Lock()\n",
    "\n",
    "class Memory:\n",
    "    def __init__(self):\n",
    "        self.samples = []\n",
    "        self.id_counter = 0\n",
    "        self.id_list = []\n",
    "\n",
    "    def add_sample(self, value):\n",
    "        sample = Sample(self.id_counter, value)\n",
    "        self.id_list.append(self.id_counter)\n",
    "        self.id_counter += 1\n",
    "        self.samples.append(sample)\n",
    "\n",
    "    def update_id_list(self):\n",
    "        self.id_list = [sample.key for sample in self.samples]\n",
    "\n",
    "def process_item(item):\n",
    "    \"\"\"Simulate processing an item and decide whether to remove it.\n",
    "    Return True if the item should be removed, False otherwise.\"\"\"\n",
    "    # Simulate some processing time\n",
    "    time.sleep(0.001)\n",
    "    # Arbitrary condition to remove the item\n",
    "    if item < 0.5:\n",
    "        return True\n",
    "    return False\n",
    "    \n",
    "\n",
    "\n",
    "def worker(memory_queue):\n",
    "    while not memory_queue.empty():\n",
    "        item = memory_queue.get()\n",
    "        flag = process_item(item)\n",
    "\n",
    "        memory_queue.task_done()\n",
    "\n",
    "def main():\n",
    "\n",
    "    memory = Memory()\n",
    "    # populate samples in memory using random numbers\n",
    "    for i in range(1000):\n",
    "        memory.add_sample(value=random.random())\n",
    "\n",
    "    memory_queue = Queue()\n",
    "\n",
    "    # Fill the queue with items\n",
    "    for sample in memory.samples:\n",
    "        memory_queue.put(sample.id)\n",
    "\n",
    "    num_workers = 1  # Number of parallel threads\n",
    "\n",
    "    # Start worker threads\n",
    "    threads = []\n",
    "    for _ in range(num_workers):\n",
    "        thread = threading.Thread(target=worker, args=(memory_queue,))\n",
    "        thread.start()\n",
    "        threads.append(thread)\n",
    "\n",
    "    # Wait for all items to be processed\n",
    "    for thread in threads:\n",
    "        thread.join()\n",
    "\n",
    "    print(\"All items have been processed.\")\n",
    "\n",
    "if __name__ == \"__main__\":\n",
    "    main()\n"
   ]
  }
 ],
 "metadata": {
  "kernelspec": {
   "display_name": "Python 3",
   "language": "python",
   "name": "python3"
  },
  "language_info": {
   "codemirror_mode": {
    "name": "ipython",
    "version": 3
   },
   "file_extension": ".py",
   "mimetype": "text/x-python",
   "name": "python",
   "nbconvert_exporter": "python",
   "pygments_lexer": "ipython3",
   "version": "3.12.1"
  }
 },
 "nbformat": 4,
 "nbformat_minor": 2
}
