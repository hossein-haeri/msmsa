{
 "cells": [
  {
   "cell_type": "code",
   "execution_count": 33,
   "metadata": {},
   "outputs": [],
   "source": [
    "import numpy as np\n",
    "import matplotlib.pyplot as plt\n",
    "import pandas as pd\n",
    "import seaborn as sns\n",
    "\n",
    "import math\n",
    "\n",
    "def haversine_distance(lat1, lon1, lat2, lon2):\n",
    "    \"\"\"\n",
    "    Calculate the great circle distance in kilometers between two points \n",
    "    on the earth specified in decimal degrees using the Haversine formula.\n",
    "    \"\"\"\n",
    "    # Convert decimal degrees to radians \n",
    "    lon1, lat1, lon2, lat2 = map(math.radians, [lon1, lat1, lon2, lat2])\n",
    "\n",
    "    # Haversine formula \n",
    "    dlon = lon2 - lon1 \n",
    "    dlat = lat2 - lat1 \n",
    "    a = math.sin(dlat/2)**2 + math.cos(lat1) * math.cos(lat2) * math.sin(dlon/2)**2\n",
    "    c = 2 * math.asin(math.sqrt(a)) \n",
    "    r = 6371 # Radius of earth in kilometers. Use 3956 for miles\n",
    "    return c * r\n",
    "\n",
    "def calculate_s_values(positions):\n",
    "    \"\"\"\n",
    "    Calculate normalized cumulative distances (s values) for a list of positions.\n",
    "    Each position is a tuple (latitude, longitude).\n",
    "    \"\"\"\n",
    "    distances = []\n",
    "    cumulative_distances = [0]  # Start with 0 for the first position\n",
    "\n",
    "    # Calculate distances between consecutive points\n",
    "    for i in range(1, len(positions)):\n",
    "        lat1, lon1 = positions[i - 1]\n",
    "        lat2, lon2 = positions[i]\n",
    "        dist = haversine_distance(lat1, lon1, lat2, lon2)\n",
    "        \n",
    "        distances.append(dist)\n",
    "        cumulative_distances.append(cumulative_distances[-1] + dist)\n",
    "\n",
    "    # Normalize cumulative distances\n",
    "    total_distance = cumulative_distances[-1]\n",
    "    \n",
    "    s_values = [cd / total_distance for cd in cumulative_distances]\n",
    "\n",
    "    return cumulative_distances, s_values\n",
    "\n",
    "\n"
   ]
  },
  {
   "cell_type": "code",
   "execution_count": 46,
   "metadata": {},
   "outputs": [
    {
     "name": "stdout",
     "output_type": "stream",
     "text": [
      "average_records_per_trip 200.4551442198501\n",
      "average_ahead_records 107.38581335928946\n",
      "preview_duration 600\n",
      "learning_model DecisionTreeRegressor\n",
      "dataset Teconer_Downtown_1M\n",
      "online_models ['TMI']\n",
      "metric_MAE 0.061104813743999495\n",
      "metric_RMSE 0.1144246398148579\n",
      "metric_R2 0.24974997415575428\n",
      "TMI {'epsilon': 0.6, 'prior': 0.5, 'num_sub_predictions': 20, 'min_memory_len': 10, 'max_elimination_per_pruning': 10, 'probabilistic_prediction': False, 'method_name': 'TMI'}\n",
      "Estimator:  TMI\n",
      "MAE: 0.06\n",
      "RMSE: 0.11\n",
      "R2: 0.25\n"
     ]
    }
   ],
   "source": [
    "df, summary = pd.read_pickle('Teconer_results/2024-07-04-21-58-44.pkl')\n",
    "# 2024-07-04-21-30-15.pkl\n",
    "# 2024-07-04-21-32-04.pkl 1M Jan\n",
    "# 2024-07-04-21-32-04.pkl 100K Jan\n",
    "# 2024-07-04-21-31-14.pkl 100K downtown\n",
    "df['AbsoluteTime'] = df['AbsoluteTime'] - df['AbsoluteTime'].min()\n",
    "# calculate trip station using calculate_s_values\n",
    "\n",
    "# group by trip_id and make each group a separate df\n",
    "grouped = df.groupby('TripID')\n",
    "\n",
    "trip_dfs = [group for _, group in grouped]\n",
    "\n",
    "# print average length of trip\n",
    "trip_lengths = [len(trip) for trip in trip_dfs]\n",
    "\n",
    "estimators = ['TMI']\n",
    "\n",
    "\n",
    "\n",
    "\n",
    "# calculate the MAE and RMSE across all records in df\n",
    "def calculate_error_metrics(df, estimator):\n",
    "    \"\"\"\n",
    "    Calculate mean absolute error (MAE) and root mean squared error (RMSE) between Friction (meansured) and predicted value by each estimator.\n",
    "    \"\"\"\n",
    "    # Calculate mean absolute error\n",
    "    mae = np.mean(np.abs(df['Friction (measured)'] - df[estimator]))\n",
    "\n",
    "    # Calculate root mean squared error\n",
    "    rmse = np.sqrt(np.mean((df['Friction (measured)'] - df[estimator]) ** 2))\n",
    "\n",
    "    # Calculate R^2\n",
    "    ss_res = np.sum((df['Friction (measured)'] - df[estimator]) ** 2)\n",
    "    ss_tot = np.sum((df['Friction (measured)'] - np.mean(df['Friction (measured)'])) ** 2)\n",
    "    r2 = 1 - ss_res / ss_tot\n",
    "\n",
    "    return mae, rmse, r2\n",
    "\n",
    "# print the summary dictionary make sure each item appears in a separate line\n",
    "for key, value in summary.items():\n",
    "    print(key, value)\n",
    "for estimator in estimators:\n",
    "\n",
    "    print(\"Estimator: \", estimator)\n",
    "    mae, rmse, r2 = calculate_error_metrics(df, estimator)\n",
    "    print(f\"MAE: {mae:.2f}\")\n",
    "    print(f\"RMSE: {rmse:.2f}\")\n",
    "    print(f\"R2: {r2:.2f}\")\n",
    "\n",
    "\n"
   ]
  },
  {
   "cell_type": "code",
   "execution_count": null,
   "metadata": {},
   "outputs": [],
   "source": []
  },
  {
   "cell_type": "code",
   "execution_count": 47,
   "metadata": {},
   "outputs": [
    {
     "name": "stderr",
     "output_type": "stream",
     "text": [
      "2024-07-04 18:19:25.376 python[9077:148862531] Warning: Window move completed without beginning\n"
     ]
    },
    {
     "ename": "KeyboardInterrupt",
     "evalue": "",
     "output_type": "error",
     "traceback": [
      "\u001b[0;31m---------------------------------------------------------------------------\u001b[0m",
      "\u001b[0;31mKeyboardInterrupt\u001b[0m                         Traceback (most recent call last)",
      "Cell \u001b[0;32mIn[47], line 54\u001b[0m\n\u001b[1;32m     49\u001b[0m plt\u001b[38;5;241m.\u001b[39mpause(\u001b[38;5;241m0.01\u001b[39m)\n\u001b[1;32m     51\u001b[0m \u001b[38;5;66;03m# save the png figure in \\figures directory\u001b[39;00m\n\u001b[1;32m     52\u001b[0m \u001b[38;5;66;03m# plt.savefig('figures/fig_'+str(trip_id)+'_kswin.png')\u001b[39;00m\n\u001b[1;32m     53\u001b[0m \u001b[38;5;66;03m# if key n is pressed, go to next trip\u001b[39;00m\n\u001b[0;32m---> 54\u001b[0m \u001b[38;5;28;01mif\u001b[39;00m \u001b[43mplt\u001b[49m\u001b[38;5;241;43m.\u001b[39;49m\u001b[43mwaitforbuttonpress\u001b[49m\u001b[43m(\u001b[49m\u001b[43m)\u001b[49m:            \n\u001b[1;32m     55\u001b[0m     \u001b[38;5;28;01mcontinue\u001b[39;00m\n",
      "File \u001b[0;32m~/.pyenv/versions/3.12.1/lib/python3.12/site-packages/matplotlib/pyplot.py:2590\u001b[0m, in \u001b[0;36mwaitforbuttonpress\u001b[0;34m(timeout)\u001b[0m\n\u001b[1;32m   2588\u001b[0m \u001b[38;5;129m@_copy_docstring_and_deprecators\u001b[39m(Figure\u001b[38;5;241m.\u001b[39mwaitforbuttonpress)\n\u001b[1;32m   2589\u001b[0m \u001b[38;5;28;01mdef\u001b[39;00m \u001b[38;5;21mwaitforbuttonpress\u001b[39m(timeout: \u001b[38;5;28mfloat\u001b[39m \u001b[38;5;241m=\u001b[39m \u001b[38;5;241m-\u001b[39m\u001b[38;5;241m1\u001b[39m) \u001b[38;5;241m-\u001b[39m\u001b[38;5;241m>\u001b[39m \u001b[38;5;28;01mNone\u001b[39;00m \u001b[38;5;241m|\u001b[39m \u001b[38;5;28mbool\u001b[39m:\n\u001b[0;32m-> 2590\u001b[0m     \u001b[38;5;28;01mreturn\u001b[39;00m \u001b[43mgcf\u001b[49m\u001b[43m(\u001b[49m\u001b[43m)\u001b[49m\u001b[38;5;241;43m.\u001b[39;49m\u001b[43mwaitforbuttonpress\u001b[49m\u001b[43m(\u001b[49m\u001b[43mtimeout\u001b[49m\u001b[38;5;241;43m=\u001b[39;49m\u001b[43mtimeout\u001b[49m\u001b[43m)\u001b[49m\n",
      "File \u001b[0;32m~/.pyenv/versions/3.12.1/lib/python3.12/site-packages/matplotlib/figure.py:3503\u001b[0m, in \u001b[0;36mFigure.waitforbuttonpress\u001b[0;34m(self, timeout)\u001b[0m\n\u001b[1;32m   3500\u001b[0m     event \u001b[38;5;241m=\u001b[39m ev\n\u001b[1;32m   3501\u001b[0m     \u001b[38;5;28mself\u001b[39m\u001b[38;5;241m.\u001b[39mcanvas\u001b[38;5;241m.\u001b[39mstop_event_loop()\n\u001b[0;32m-> 3503\u001b[0m \u001b[43m_blocking_input\u001b[49m\u001b[38;5;241;43m.\u001b[39;49m\u001b[43mblocking_input_loop\u001b[49m\u001b[43m(\u001b[49m\n\u001b[1;32m   3504\u001b[0m \u001b[43m    \u001b[49m\u001b[38;5;28;43mself\u001b[39;49m\u001b[43m,\u001b[49m\u001b[43m \u001b[49m\u001b[43m[\u001b[49m\u001b[38;5;124;43m\"\u001b[39;49m\u001b[38;5;124;43mbutton_press_event\u001b[39;49m\u001b[38;5;124;43m\"\u001b[39;49m\u001b[43m,\u001b[49m\u001b[43m \u001b[49m\u001b[38;5;124;43m\"\u001b[39;49m\u001b[38;5;124;43mkey_press_event\u001b[39;49m\u001b[38;5;124;43m\"\u001b[39;49m\u001b[43m]\u001b[49m\u001b[43m,\u001b[49m\u001b[43m \u001b[49m\u001b[43mtimeout\u001b[49m\u001b[43m,\u001b[49m\u001b[43m \u001b[49m\u001b[43mhandler\u001b[49m\u001b[43m)\u001b[49m\n\u001b[1;32m   3506\u001b[0m \u001b[38;5;28;01mreturn\u001b[39;00m \u001b[38;5;28;01mNone\u001b[39;00m \u001b[38;5;28;01mif\u001b[39;00m event \u001b[38;5;129;01mis\u001b[39;00m \u001b[38;5;28;01mNone\u001b[39;00m \u001b[38;5;28;01melse\u001b[39;00m event\u001b[38;5;241m.\u001b[39mname \u001b[38;5;241m==\u001b[39m \u001b[38;5;124m\"\u001b[39m\u001b[38;5;124mkey_press_event\u001b[39m\u001b[38;5;124m\"\u001b[39m\n",
      "File \u001b[0;32m~/.pyenv/versions/3.12.1/lib/python3.12/site-packages/matplotlib/_blocking_input.py:26\u001b[0m, in \u001b[0;36mblocking_input_loop\u001b[0;34m(figure, event_names, timeout, handler)\u001b[0m\n\u001b[1;32m     24\u001b[0m cids \u001b[38;5;241m=\u001b[39m [figure\u001b[38;5;241m.\u001b[39mcanvas\u001b[38;5;241m.\u001b[39mmpl_connect(name, handler) \u001b[38;5;28;01mfor\u001b[39;00m name \u001b[38;5;129;01min\u001b[39;00m event_names]\n\u001b[1;32m     25\u001b[0m \u001b[38;5;28;01mtry\u001b[39;00m:\n\u001b[0;32m---> 26\u001b[0m     \u001b[43mfigure\u001b[49m\u001b[38;5;241;43m.\u001b[39;49m\u001b[43mcanvas\u001b[49m\u001b[38;5;241;43m.\u001b[39;49m\u001b[43mstart_event_loop\u001b[49m\u001b[43m(\u001b[49m\u001b[43mtimeout\u001b[49m\u001b[43m)\u001b[49m  \u001b[38;5;66;03m# Start event loop.\u001b[39;00m\n\u001b[1;32m     27\u001b[0m \u001b[38;5;28;01mfinally\u001b[39;00m:  \u001b[38;5;66;03m# Run even on exception like ctrl-c.\u001b[39;00m\n\u001b[1;32m     28\u001b[0m     \u001b[38;5;66;03m# Disconnect the callbacks.\u001b[39;00m\n\u001b[1;32m     29\u001b[0m     \u001b[38;5;28;01mfor\u001b[39;00m cid \u001b[38;5;129;01min\u001b[39;00m cids:\n",
      "File \u001b[0;32m~/.pyenv/versions/3.12.1/lib/python3.12/site-packages/matplotlib/backends/backend_qt.py:412\u001b[0m, in \u001b[0;36mFigureCanvasQT.start_event_loop\u001b[0;34m(self, timeout)\u001b[0m\n\u001b[1;32m    409\u001b[0m \u001b[38;5;28;01mif\u001b[39;00m timeout \u001b[38;5;241m>\u001b[39m \u001b[38;5;241m0\u001b[39m:\n\u001b[1;32m    410\u001b[0m     _ \u001b[38;5;241m=\u001b[39m QtCore\u001b[38;5;241m.\u001b[39mQTimer\u001b[38;5;241m.\u001b[39msingleShot(\u001b[38;5;28mint\u001b[39m(timeout \u001b[38;5;241m*\u001b[39m \u001b[38;5;241m1000\u001b[39m), event_loop\u001b[38;5;241m.\u001b[39mquit)\n\u001b[0;32m--> 412\u001b[0m \u001b[43m\u001b[49m\u001b[38;5;28;43;01mwith\u001b[39;49;00m\u001b[43m \u001b[49m\u001b[43m_maybe_allow_interrupt\u001b[49m\u001b[43m(\u001b[49m\u001b[43mevent_loop\u001b[49m\u001b[43m)\u001b[49m\u001b[43m:\u001b[49m\n\u001b[1;32m    413\u001b[0m \u001b[43m    \u001b[49m\u001b[43mqt_compat\u001b[49m\u001b[38;5;241;43m.\u001b[39;49m\u001b[43m_exec\u001b[49m\u001b[43m(\u001b[49m\u001b[43mevent_loop\u001b[49m\u001b[43m)\u001b[49m\n",
      "File \u001b[0;32m~/.pyenv/versions/3.12.1/lib/python3.12/contextlib.py:144\u001b[0m, in \u001b[0;36m_GeneratorContextManager.__exit__\u001b[0;34m(self, typ, value, traceback)\u001b[0m\n\u001b[1;32m    142\u001b[0m \u001b[38;5;28;01mif\u001b[39;00m typ \u001b[38;5;129;01mis\u001b[39;00m \u001b[38;5;28;01mNone\u001b[39;00m:\n\u001b[1;32m    143\u001b[0m     \u001b[38;5;28;01mtry\u001b[39;00m:\n\u001b[0;32m--> 144\u001b[0m         \u001b[38;5;28;43mnext\u001b[39;49m\u001b[43m(\u001b[49m\u001b[38;5;28;43mself\u001b[39;49m\u001b[38;5;241;43m.\u001b[39;49m\u001b[43mgen\u001b[49m\u001b[43m)\u001b[49m\n\u001b[1;32m    145\u001b[0m     \u001b[38;5;28;01mexcept\u001b[39;00m \u001b[38;5;167;01mStopIteration\u001b[39;00m:\n\u001b[1;32m    146\u001b[0m         \u001b[38;5;28;01mreturn\u001b[39;00m \u001b[38;5;28;01mFalse\u001b[39;00m\n",
      "File \u001b[0;32m~/.pyenv/versions/3.12.1/lib/python3.12/site-packages/matplotlib/backends/qt_compat.py:230\u001b[0m, in \u001b[0;36m_maybe_allow_interrupt\u001b[0;34m(qapp)\u001b[0m\n\u001b[1;32m    228\u001b[0m signal\u001b[38;5;241m.\u001b[39msignal(signal\u001b[38;5;241m.\u001b[39mSIGINT, old_sigint_handler)\n\u001b[1;32m    229\u001b[0m \u001b[38;5;28;01mif\u001b[39;00m handler_args \u001b[38;5;129;01mis\u001b[39;00m \u001b[38;5;129;01mnot\u001b[39;00m \u001b[38;5;28;01mNone\u001b[39;00m:\n\u001b[0;32m--> 230\u001b[0m     \u001b[43mold_sigint_handler\u001b[49m\u001b[43m(\u001b[49m\u001b[38;5;241;43m*\u001b[39;49m\u001b[43mhandler_args\u001b[49m\u001b[43m)\u001b[49m\n",
      "\u001b[0;31mKeyboardInterrupt\u001b[0m: "
     ]
    }
   ],
   "source": [
    "%matplotlib qt\n",
    "\n",
    "plt.close('all')\n",
    "virgin = True\n",
    "fig, ax = plt.subplots(2, 1, figsize=(8, 7))\n",
    "\n",
    "\n",
    "for trip in trip_dfs:\n",
    "    if len(trip) < 300:\n",
    "        continue\n",
    "\n",
    "\n",
    "    cum_dists, s_values = calculate_s_values(trip[['Latitude', 'Longitude']].values)\n",
    "    trip['trip_station'] = s_values\n",
    "    trip['cum_dist'] = cum_dists\n",
    "    ax[0].cla()\n",
    "    ax[1].cla()\n",
    "    # scatter plot of friction in a lat long 2D space using plt\n",
    "    sc = ax[0].scatter(trip['Longitude'], trip['Latitude'], c=trip['Friction (measured)'], cmap='viridis', s=3, alpha=0.7, vmin=.2, vmax=.8)\n",
    "    # mark the first point of the trip with a red star\n",
    "    ax[0].plot(trip['Longitude'].iloc[0], trip['Latitude'].iloc[0], 'r*', markersize=10)\n",
    "    ax[0].set_title('Measured Friction')\n",
    "    ax[0].set_xlabel('Longitude')\n",
    "    ax[0].set_ylabel('Latitude')\n",
    "    ax[0].grid(True)\n",
    "\n",
    "\n",
    "    if virgin:\n",
    "        virgin = False\n",
    "        # add colorbar to the scatter plot\n",
    "        fig.colorbar(sc, ax=ax[0], label='Friction')\n",
    "        fig.tight_layout()\n",
    "\n",
    "    # plot friction over time using plt\n",
    "    ax[1].plot(trip['cum_dist'], trip['Friction (measured)'], label='Measured')\n",
    "    for method_name in estimators:\n",
    "        ax[1].plot(trip['cum_dist'], trip[method_name], label=method_name)\n",
    "    # ax[2].set_title('Measured vs. Predicted - '+str(trip_id) + ' - ' + str(trip[1][0,0]))\n",
    "    ax[1].set_title('Friction (Measured vs. Predicted)')\n",
    "    ax[1].legend()\n",
    "    ax[1].set_xlabel('Cumulative Trip Distance [Km]')\n",
    "    ax[1].set_ylabel('Friction')\n",
    "    ax[1].grid(True)\n",
    "\n",
    "    # make ylim .2 to 08\n",
    "    ax[1].set_ylim(0, 1)\n",
    "\n",
    "    plt.tight_layout()\n",
    "    plt.pause(0.01)\n",
    "\n",
    "    # save the png figure in \\figures directory\n",
    "    # plt.savefig('figures/fig_'+str(trip_id)+'_kswin.png')\n",
    "    # if key n is pressed, go to next trip\n",
    "    if plt.waitforbuttonpress():            \n",
    "        continue"
   ]
  },
  {
   "cell_type": "code",
   "execution_count": 27,
   "metadata": {},
   "outputs": [
    {
     "data": {
      "text/plain": [
       "(1360, 2)"
      ]
     },
     "execution_count": 27,
     "metadata": {},
     "output_type": "execute_result"
    }
   ],
   "source": [
    "trip[['Latitude', 'Longitude']].values"
   ]
  }
 ],
 "metadata": {
  "kernelspec": {
   "display_name": "Python 3",
   "language": "python",
   "name": "python3"
  },
  "language_info": {
   "codemirror_mode": {
    "name": "ipython",
    "version": 3
   },
   "file_extension": ".py",
   "mimetype": "text/x-python",
   "name": "python",
   "nbconvert_exporter": "python",
   "pygments_lexer": "ipython3",
   "version": "3.12.1"
  }
 },
 "nbformat": 4,
 "nbformat_minor": 2
}
