{
 "cells": [
  {
   "cell_type": "code",
   "execution_count": 13,
   "metadata": {},
   "outputs": [],
   "source": [
    "import wandb\n",
    "import numpy as np\n",
    "import pandas as pd\n",
    "import seaborn as sns\n",
    "import matplotlib.pyplot as plt\n",
    "\n"
   ]
  },
  {
   "cell_type": "code",
   "execution_count": 14,
   "metadata": {},
   "outputs": [
    {
     "name": "stdout",
     "output_type": "stream",
     "text": [
      "Number of runs: 60\n"
     ]
    }
   ],
   "source": [
    "# Initialize the API\n",
    "api = wandb.Api()\n",
    "\n",
    "# Specify your project details\n",
    "entity = \"haeri-hsn\"  # Replace with your wandb entity\n",
    "project = \"stream_learning\"  # Replace with your wandb project name\n",
    "\n",
    "# Define filters\n",
    "filters = {\n",
    "    'state': 'finished',  # Only fetch finished runs\n",
    "    'tags': {'$in': ['test_num_anchors']}  # Runs containing a specific tag msmsa_horizon_analysis_melbourne_housing \\ msmsa_anchor_analysis_melbourne_housing\n",
    "}\n",
    "\n",
    "# Query runs with filters\n",
    "runs = api.runs(f\"{entity}/{project}\", filters=filters)\n",
    "\n",
    "# print number of runs\n",
    "print(f\"Number of runs: {len(runs)}\")"
   ]
  },
  {
   "cell_type": "code",
   "execution_count": 15,
   "metadata": {},
   "outputs": [
    {
     "name": "stdout",
     "output_type": "stream",
     "text": [
      "Distinct num_hor_candids: [16]\n"
     ]
    }
   ],
   "source": [
    "run_data = []\n",
    "for run in runs:\n",
    "    # if ('msmsa_horizon_analysis_melbourne_housing' in run.tags) and len(run.config['hor_candids']) == 7:\n",
    "    #     continue\n",
    "    # print(run.summary)\n",
    "    run_dict = {\n",
    "\n",
    "        \n",
    "        'id': run.id,\n",
    "        'name': run.name,\n",
    "        'method': run.config['method'],\n",
    "        'dataset': run.config['dataset'],\n",
    "        'base_learner': run.config['base_learner'],\n",
    "        'hor_candids': run.config['hor_candids'],\n",
    "        'num_anchors': run.config['num_anchors'],\n",
    "\n",
    "        'MAE': run.config['MAE'],\n",
    "        'RMSE': run.config['RMSE'],\n",
    "        'R2': run.config['R2'],\n",
    "        'base_learner_params': run.config['base_learner_params'],\n",
    "\n",
    "        # print(run.summary)\n",
    "        'runtime': run.summary['_runtime'],  # Add runtime in seconds\n",
    "        'num_timesteps': run.summary['_step'],  # Add runtime in seconds\n",
    "        'num_train_samples': run.summary['num_train_samples'],\n",
    "        'run_abs_error': run.summary['run_abs_error'],\n",
    "        'run_y': run.summary['run_y'],\n",
    "        'run_y_pred': run.summary['run_y_pred'],\n",
    "        'tags': run.tags,\n",
    "\n",
    "        # 'hor_candids': run.config.hor_candids,\n",
    "        # 'num_anchors': run.config.num_anchors,\n",
    "        # 'updated_at': run.config.updated_at,\n",
    "        # 'MAE': run.tags,\n",
    "        # 'RMSE': run.notes,\n",
    "        # 'R2': run.config.R2,\n",
    "        # 'base_learner_params': run.config.base_learner_params,\n",
    "\n",
    "        # 'num_train_samples': run.config.num_train_samples,\n",
    "        # 'run_abs_error': run.configrun_abs_error,\n",
    "        # 'run_y': run.config.run_y,\n",
    "        # 'run_y_pred': run.config.run_y_pred,\n",
    "\n",
    "    }\n",
    "    run_data.append(run_dict)\n",
    "\n",
    "# Convert to DataFrame\n",
    "# df_normal = pd.DataFrame(run_data)\n",
    "df = pd.DataFrame(run_data)\n",
    "df['num_hor_candids'] = df['hor_candids'].apply(len)\n",
    "\n",
    "# print distinct num_hor_candids\n",
    "print(f\"Distinct num_hor_candids: {df['num_hor_candids'].unique()}\")"
   ]
  },
  {
   "cell_type": "code",
   "execution_count": 12,
   "metadata": {},
   "outputs": [],
   "source": [
    "# combine df_uniform df_normal and df_exact into one dataframe add include a column for the type of data\n",
    "df_normal['type'] = 'normal'\n",
    "df_uniform['type'] = 'uniform'\n",
    "df_exact['type'] = 'exact'\n",
    "\n",
    "df = pd.concat([df_normal, df_uniform, df_exact])\n",
    "\n",
    "# pickle the dataframe\n",
    "df.to_pickle('df_anchor_distributions.pkl')\n"
   ]
  },
  {
   "cell_type": "markdown",
   "metadata": {},
   "source": [
    "## Horizon Analysis"
   ]
  },
  {
   "cell_type": "code",
   "execution_count": 29,
   "metadata": {},
   "outputs": [
    {
     "name": "stderr",
     "output_type": "stream",
     "text": [
      "C:\\Users\\Hossein_Haeri\\AppData\\Local\\Temp\\ipykernel_13492\\975928412.py:20: UserWarning: The palette list has more values (4) than needed (1), which may not be intended.\n",
      "  sns.barplot(x='hor_candids_type', y=metric, data=df, hue='hor_candids_type', palette=colors, width=0.5)\n",
      "C:\\Users\\Hossein_Haeri\\AppData\\Local\\Temp\\ipykernel_13492\\975928412.py:20: UserWarning: The palette list has more values (4) than needed (1), which may not be intended.\n",
      "  sns.barplot(x='hor_candids_type', y=metric, data=df, hue='hor_candids_type', palette=colors, width=0.5)\n",
      "C:\\Users\\Hossein_Haeri\\AppData\\Local\\Temp\\ipykernel_13492\\975928412.py:20: UserWarning: The palette list has more values (4) than needed (1), which may not be intended.\n",
      "  sns.barplot(x='hor_candids_type', y=metric, data=df, hue='hor_candids_type', palette=colors, width=0.5)\n",
      "C:\\Users\\Hossein_Haeri\\AppData\\Local\\Temp\\ipykernel_13492\\975928412.py:20: UserWarning: The palette list has more values (4) than needed (1), which may not be intended.\n",
      "  sns.barplot(x='hor_candids_type', y=metric, data=df, hue='hor_candids_type', palette=colors, width=0.5)\n"
     ]
    }
   ],
   "source": [
    "%matplotlib qt\n",
    "\n",
    "plt.close('all')\n",
    "# set theme for seaborn\n",
    "sns.set_theme(style='whitegrid')\n",
    "\n",
    "\n",
    "# assuming hor_candids is a list of integers, make another column (num_hor_candids) with the length of the list\n",
    "df['num_hor_candids'] = df['hor_candids'].apply(len)\n",
    "\n",
    "# remove rows with \n",
    "df = df.sort_values(by='num_hor_candids')\n",
    "# Now create another column where if num_hor_candids is 7, then the value is 'exponential(^2)', if  37, then 'exponential(^1.15)' and if 991 then 'full'\n",
    "df['hor_candids_type'] = df['num_hor_candids'].apply(lambda x: 'b=1.50' if x == 15 else 'b=1.15' if x == 47 else 'b=1.10' if x == 68 else 'Full')\n",
    "colors = ['#E57439', '#EDB732', '#A0C75C', '#5387DD']\n",
    "# create a sns barplot of MAE, RMSE, R2 for each hor_candids configuration\n",
    "def plot_metrics(df, metric, title):\n",
    "\n",
    "    plt.figure(figsize=(4, 4))\n",
    "    sns.barplot(x='hor_candids_type', y=metric, data=df, hue='hor_candids_type', palette=colors, width=0.5)\n",
    "    # plt.title(f'{metric} for different horizon candidates setting')\n",
    "    # remove x label\n",
    "    plt.xlabel(title)\n",
    "    # if metric is runtime add a [s] to the y label\n",
    "    plt.ylabel(f'Runtime [sec]' if metric == 'runtime' else metric)\n",
    "    plt.tight_layout()\n",
    "    plt.show()\n",
    "\n",
    "\n",
    "plot_metrics(df, 'MAE', '(a)')\n",
    "plot_metrics(df, 'RMSE', '(b)')\n",
    "plot_metrics(df, 'R2', '(c)')\n",
    "plot_metrics(df, 'runtime', '(d)')\n",
    "\n"
   ]
  },
  {
   "cell_type": "markdown",
   "metadata": {},
   "source": [
    "## Num Anchor points analysis"
   ]
  },
  {
   "cell_type": "code",
   "execution_count": 31,
   "metadata": {},
   "outputs": [],
   "source": [
    "%matplotlib qt\n",
    "\n",
    "plt.close('all')\n",
    "# set theme for seaborn\n",
    "sns.set_theme(style='whitegrid')\n",
    "\n",
    "colors = ['#57A6A1', '#577B8D', '#344C64', '#2D3047']\n",
    "\n",
    "# create a sns barplot of MAE, RMSE, R2 for each hor_candids configuration\n",
    "def plot_metrics(df, metric):\n",
    "\n",
    "    plt.figure(figsize=(3, 4))\n",
    "    sns.barplot(x='num_anchors', y=metric, data=df, hue='num_anchors', palette='coolwarm', width=0.5)\n",
    "    # plt.title(f'{metric} for different distribution of anchor points')\n",
    "    # remove x label\n",
    "    plt.xlabel('Number of Anchor Points')\n",
    "    # if metric is runtime add a [s] to the y label\n",
    "    plt.ylabel(f'Runtime [sec]' if metric == 'runtime' else metric)\n",
    "    plt.tight_layout()\n",
    "    # replace the legend title with 'Number of anchor points'\n",
    "    plt.legend(title='Number of anchor points')\n",
    "    plt.show()\n",
    "\n",
    "\n",
    "plot_metrics(df, 'MAE')\n",
    "plot_metrics(df, 'RMSE')\n",
    "plot_metrics(df, 'R2')\n",
    "plot_metrics(df, 'runtime')"
   ]
  },
  {
   "cell_type": "markdown",
   "metadata": {},
   "source": [
    "## Anchor Distribution Analysis"
   ]
  },
  {
   "cell_type": "code",
   "execution_count": 10,
   "metadata": {},
   "outputs": [
    {
     "ename": "ValueError",
     "evalue": "Could not interpret value `type` for `x`. An entry with this name does not appear in `data`.",
     "output_type": "error",
     "traceback": [
      "\u001b[1;31m---------------------------------------------------------------------------\u001b[0m",
      "\u001b[1;31mValueError\u001b[0m                                Traceback (most recent call last)",
      "Cell \u001b[1;32mIn[10], line 23\u001b[0m\n\u001b[0;32m     19\u001b[0m     plt\u001b[38;5;241m.\u001b[39mtight_layout()\n\u001b[0;32m     20\u001b[0m     plt\u001b[38;5;241m.\u001b[39mshow()\n\u001b[1;32m---> 23\u001b[0m \u001b[43mplot_metrics\u001b[49m\u001b[43m(\u001b[49m\u001b[43mdf\u001b[49m\u001b[43m,\u001b[49m\u001b[43m \u001b[49m\u001b[38;5;124;43m'\u001b[39;49m\u001b[38;5;124;43mMAE\u001b[39;49m\u001b[38;5;124;43m'\u001b[39;49m\u001b[43m)\u001b[49m\n\u001b[0;32m     24\u001b[0m plot_metrics(df, \u001b[38;5;124m'\u001b[39m\u001b[38;5;124mRMSE\u001b[39m\u001b[38;5;124m'\u001b[39m)\n\u001b[0;32m     25\u001b[0m plot_metrics(df, \u001b[38;5;124m'\u001b[39m\u001b[38;5;124mR2\u001b[39m\u001b[38;5;124m'\u001b[39m)\n",
      "Cell \u001b[1;32mIn[10], line 13\u001b[0m, in \u001b[0;36mplot_metrics\u001b[1;34m(df, metric)\u001b[0m\n\u001b[0;32m     10\u001b[0m \u001b[38;5;28;01mdef\u001b[39;00m \u001b[38;5;21mplot_metrics\u001b[39m(df, metric):\n\u001b[0;32m     12\u001b[0m     plt\u001b[38;5;241m.\u001b[39mfigure(figsize\u001b[38;5;241m=\u001b[39m(\u001b[38;5;241m3\u001b[39m, \u001b[38;5;241m4\u001b[39m))\n\u001b[1;32m---> 13\u001b[0m     \u001b[43msns\u001b[49m\u001b[38;5;241;43m.\u001b[39;49m\u001b[43mbarplot\u001b[49m\u001b[43m(\u001b[49m\u001b[43mx\u001b[49m\u001b[38;5;241;43m=\u001b[39;49m\u001b[38;5;124;43m'\u001b[39;49m\u001b[38;5;124;43mtype\u001b[39;49m\u001b[38;5;124;43m'\u001b[39;49m\u001b[43m,\u001b[49m\u001b[43m \u001b[49m\u001b[43my\u001b[49m\u001b[38;5;241;43m=\u001b[39;49m\u001b[43mmetric\u001b[49m\u001b[43m,\u001b[49m\u001b[43m \u001b[49m\u001b[43mdata\u001b[49m\u001b[38;5;241;43m=\u001b[39;49m\u001b[43mdf\u001b[49m\u001b[43m,\u001b[49m\u001b[43m \u001b[49m\u001b[43mhue\u001b[49m\u001b[38;5;241;43m=\u001b[39;49m\u001b[38;5;124;43m'\u001b[39;49m\u001b[38;5;124;43mtype\u001b[39;49m\u001b[38;5;124;43m'\u001b[39;49m\u001b[43m,\u001b[49m\u001b[43m \u001b[49m\u001b[43mpalette\u001b[49m\u001b[38;5;241;43m=\u001b[39;49m\u001b[43mcolors\u001b[49m\u001b[43m,\u001b[49m\u001b[43m \u001b[49m\u001b[43mwidth\u001b[49m\u001b[38;5;241;43m=\u001b[39;49m\u001b[38;5;241;43m0.5\u001b[39;49m\u001b[43m,\u001b[49m\u001b[43m \u001b[49m\u001b[43morder\u001b[49m\u001b[38;5;241;43m=\u001b[39;49m\u001b[43m[\u001b[49m\u001b[38;5;124;43m'\u001b[39;49m\u001b[38;5;124;43muniform\u001b[39;49m\u001b[38;5;124;43m'\u001b[39;49m\u001b[43m,\u001b[49m\u001b[43m \u001b[49m\u001b[38;5;124;43m'\u001b[39;49m\u001b[38;5;124;43mnormal\u001b[39;49m\u001b[38;5;124;43m'\u001b[39;49m\u001b[43m,\u001b[49m\u001b[43m \u001b[49m\u001b[38;5;124;43m'\u001b[39;49m\u001b[38;5;124;43mexact\u001b[39;49m\u001b[38;5;124;43m'\u001b[39;49m\u001b[43m]\u001b[49m\u001b[43m)\u001b[49m\n\u001b[0;32m     14\u001b[0m     \u001b[38;5;66;03m# plt.title(f'{metric} for different distribution of anchor points')\u001b[39;00m\n\u001b[0;32m     15\u001b[0m     \u001b[38;5;66;03m# remove x label\u001b[39;00m\n\u001b[0;32m     16\u001b[0m     plt\u001b[38;5;241m.\u001b[39mxlabel(\u001b[38;5;124m'\u001b[39m\u001b[38;5;124mDistribution of Anchor Points\u001b[39m\u001b[38;5;124m'\u001b[39m)\n",
      "File \u001b[1;32mc:\\Users\\Hossein_Haeri\\AppData\\Local\\Programs\\Python\\Python312\\Lib\\site-packages\\seaborn\\categorical.py:2341\u001b[0m, in \u001b[0;36mbarplot\u001b[1;34m(data, x, y, hue, order, hue_order, estimator, errorbar, n_boot, seed, units, weights, orient, color, palette, saturation, fill, hue_norm, width, dodge, gap, log_scale, native_scale, formatter, legend, capsize, err_kws, ci, errcolor, errwidth, ax, **kwargs)\u001b[0m\n\u001b[0;32m   2338\u001b[0m \u001b[38;5;28;01mif\u001b[39;00m estimator \u001b[38;5;129;01mis\u001b[39;00m \u001b[38;5;28mlen\u001b[39m:\n\u001b[0;32m   2339\u001b[0m     estimator \u001b[38;5;241m=\u001b[39m \u001b[38;5;124m\"\u001b[39m\u001b[38;5;124msize\u001b[39m\u001b[38;5;124m\"\u001b[39m\n\u001b[1;32m-> 2341\u001b[0m p \u001b[38;5;241m=\u001b[39m \u001b[43m_CategoricalAggPlotter\u001b[49m\u001b[43m(\u001b[49m\n\u001b[0;32m   2342\u001b[0m \u001b[43m    \u001b[49m\u001b[43mdata\u001b[49m\u001b[38;5;241;43m=\u001b[39;49m\u001b[43mdata\u001b[49m\u001b[43m,\u001b[49m\n\u001b[0;32m   2343\u001b[0m \u001b[43m    \u001b[49m\u001b[43mvariables\u001b[49m\u001b[38;5;241;43m=\u001b[39;49m\u001b[38;5;28;43mdict\u001b[39;49m\u001b[43m(\u001b[49m\u001b[43mx\u001b[49m\u001b[38;5;241;43m=\u001b[39;49m\u001b[43mx\u001b[49m\u001b[43m,\u001b[49m\u001b[43m \u001b[49m\u001b[43my\u001b[49m\u001b[38;5;241;43m=\u001b[39;49m\u001b[43my\u001b[49m\u001b[43m,\u001b[49m\u001b[43m \u001b[49m\u001b[43mhue\u001b[49m\u001b[38;5;241;43m=\u001b[39;49m\u001b[43mhue\u001b[49m\u001b[43m,\u001b[49m\u001b[43m \u001b[49m\u001b[43munits\u001b[49m\u001b[38;5;241;43m=\u001b[39;49m\u001b[43munits\u001b[49m\u001b[43m,\u001b[49m\u001b[43m \u001b[49m\u001b[43mweight\u001b[49m\u001b[38;5;241;43m=\u001b[39;49m\u001b[43mweights\u001b[49m\u001b[43m)\u001b[49m\u001b[43m,\u001b[49m\n\u001b[0;32m   2344\u001b[0m \u001b[43m    \u001b[49m\u001b[43morder\u001b[49m\u001b[38;5;241;43m=\u001b[39;49m\u001b[43morder\u001b[49m\u001b[43m,\u001b[49m\n\u001b[0;32m   2345\u001b[0m \u001b[43m    \u001b[49m\u001b[43morient\u001b[49m\u001b[38;5;241;43m=\u001b[39;49m\u001b[43morient\u001b[49m\u001b[43m,\u001b[49m\n\u001b[0;32m   2346\u001b[0m \u001b[43m    \u001b[49m\u001b[43mcolor\u001b[49m\u001b[38;5;241;43m=\u001b[39;49m\u001b[43mcolor\u001b[49m\u001b[43m,\u001b[49m\n\u001b[0;32m   2347\u001b[0m \u001b[43m    \u001b[49m\u001b[43mlegend\u001b[49m\u001b[38;5;241;43m=\u001b[39;49m\u001b[43mlegend\u001b[49m\u001b[43m,\u001b[49m\n\u001b[0;32m   2348\u001b[0m \u001b[43m\u001b[49m\u001b[43m)\u001b[49m\n\u001b[0;32m   2350\u001b[0m \u001b[38;5;28;01mif\u001b[39;00m ax \u001b[38;5;129;01mis\u001b[39;00m \u001b[38;5;28;01mNone\u001b[39;00m:\n\u001b[0;32m   2351\u001b[0m     ax \u001b[38;5;241m=\u001b[39m plt\u001b[38;5;241m.\u001b[39mgca()\n",
      "File \u001b[1;32mc:\\Users\\Hossein_Haeri\\AppData\\Local\\Programs\\Python\\Python312\\Lib\\site-packages\\seaborn\\categorical.py:67\u001b[0m, in \u001b[0;36m_CategoricalPlotter.__init__\u001b[1;34m(self, data, variables, order, orient, require_numeric, color, legend)\u001b[0m\n\u001b[0;32m     56\u001b[0m \u001b[38;5;28;01mdef\u001b[39;00m \u001b[38;5;21m__init__\u001b[39m(\n\u001b[0;32m     57\u001b[0m     \u001b[38;5;28mself\u001b[39m,\n\u001b[0;32m     58\u001b[0m     data\u001b[38;5;241m=\u001b[39m\u001b[38;5;28;01mNone\u001b[39;00m,\n\u001b[1;32m   (...)\u001b[0m\n\u001b[0;32m     64\u001b[0m     legend\u001b[38;5;241m=\u001b[39m\u001b[38;5;124m\"\u001b[39m\u001b[38;5;124mauto\u001b[39m\u001b[38;5;124m\"\u001b[39m,\n\u001b[0;32m     65\u001b[0m ):\n\u001b[1;32m---> 67\u001b[0m     \u001b[38;5;28;43msuper\u001b[39;49m\u001b[43m(\u001b[49m\u001b[43m)\u001b[49m\u001b[38;5;241;43m.\u001b[39;49m\u001b[38;5;21;43m__init__\u001b[39;49m\u001b[43m(\u001b[49m\u001b[43mdata\u001b[49m\u001b[38;5;241;43m=\u001b[39;49m\u001b[43mdata\u001b[49m\u001b[43m,\u001b[49m\u001b[43m \u001b[49m\u001b[43mvariables\u001b[49m\u001b[38;5;241;43m=\u001b[39;49m\u001b[43mvariables\u001b[49m\u001b[43m)\u001b[49m\n\u001b[0;32m     69\u001b[0m     \u001b[38;5;66;03m# This method takes care of some bookkeeping that is necessary because the\u001b[39;00m\n\u001b[0;32m     70\u001b[0m     \u001b[38;5;66;03m# original categorical plots (prior to the 2021 refactor) had some rules that\u001b[39;00m\n\u001b[0;32m     71\u001b[0m     \u001b[38;5;66;03m# don't fit exactly into VectorPlotter logic. It may be wise to have a second\u001b[39;00m\n\u001b[1;32m   (...)\u001b[0m\n\u001b[0;32m     76\u001b[0m     \u001b[38;5;66;03m# default VectorPlotter rules. If we do decide to make orient part of the\u001b[39;00m\n\u001b[0;32m     77\u001b[0m     \u001b[38;5;66;03m# _base variable assignment, we'll want to figure out how to express that.\u001b[39;00m\n\u001b[0;32m     78\u001b[0m     \u001b[38;5;28;01mif\u001b[39;00m \u001b[38;5;28mself\u001b[39m\u001b[38;5;241m.\u001b[39minput_format \u001b[38;5;241m==\u001b[39m \u001b[38;5;124m\"\u001b[39m\u001b[38;5;124mwide\u001b[39m\u001b[38;5;124m\"\u001b[39m \u001b[38;5;129;01mand\u001b[39;00m orient \u001b[38;5;129;01min\u001b[39;00m [\u001b[38;5;124m\"\u001b[39m\u001b[38;5;124mh\u001b[39m\u001b[38;5;124m\"\u001b[39m, \u001b[38;5;124m\"\u001b[39m\u001b[38;5;124my\u001b[39m\u001b[38;5;124m\"\u001b[39m]:\n",
      "File \u001b[1;32mc:\\Users\\Hossein_Haeri\\AppData\\Local\\Programs\\Python\\Python312\\Lib\\site-packages\\seaborn\\_base.py:634\u001b[0m, in \u001b[0;36mVectorPlotter.__init__\u001b[1;34m(self, data, variables)\u001b[0m\n\u001b[0;32m    629\u001b[0m \u001b[38;5;66;03m# var_ordered is relevant only for categorical axis variables, and may\u001b[39;00m\n\u001b[0;32m    630\u001b[0m \u001b[38;5;66;03m# be better handled by an internal axis information object that tracks\u001b[39;00m\n\u001b[0;32m    631\u001b[0m \u001b[38;5;66;03m# such information and is set up by the scale_* methods. The analogous\u001b[39;00m\n\u001b[0;32m    632\u001b[0m \u001b[38;5;66;03m# information for numeric axes would be information about log scales.\u001b[39;00m\n\u001b[0;32m    633\u001b[0m \u001b[38;5;28mself\u001b[39m\u001b[38;5;241m.\u001b[39m_var_ordered \u001b[38;5;241m=\u001b[39m {\u001b[38;5;124m\"\u001b[39m\u001b[38;5;124mx\u001b[39m\u001b[38;5;124m\"\u001b[39m: \u001b[38;5;28;01mFalse\u001b[39;00m, \u001b[38;5;124m\"\u001b[39m\u001b[38;5;124my\u001b[39m\u001b[38;5;124m\"\u001b[39m: \u001b[38;5;28;01mFalse\u001b[39;00m}  \u001b[38;5;66;03m# alt., used DefaultDict\u001b[39;00m\n\u001b[1;32m--> 634\u001b[0m \u001b[38;5;28;43mself\u001b[39;49m\u001b[38;5;241;43m.\u001b[39;49m\u001b[43massign_variables\u001b[49m\u001b[43m(\u001b[49m\u001b[43mdata\u001b[49m\u001b[43m,\u001b[49m\u001b[43m \u001b[49m\u001b[43mvariables\u001b[49m\u001b[43m)\u001b[49m\n\u001b[0;32m    636\u001b[0m \u001b[38;5;66;03m# TODO Lots of tests assume that these are called to initialize the\u001b[39;00m\n\u001b[0;32m    637\u001b[0m \u001b[38;5;66;03m# mappings to default values on class initialization. I'd prefer to\u001b[39;00m\n\u001b[0;32m    638\u001b[0m \u001b[38;5;66;03m# move away from that and only have a mapping when explicitly called.\u001b[39;00m\n\u001b[0;32m    639\u001b[0m \u001b[38;5;28;01mfor\u001b[39;00m var \u001b[38;5;129;01min\u001b[39;00m [\u001b[38;5;124m\"\u001b[39m\u001b[38;5;124mhue\u001b[39m\u001b[38;5;124m\"\u001b[39m, \u001b[38;5;124m\"\u001b[39m\u001b[38;5;124msize\u001b[39m\u001b[38;5;124m\"\u001b[39m, \u001b[38;5;124m\"\u001b[39m\u001b[38;5;124mstyle\u001b[39m\u001b[38;5;124m\"\u001b[39m]:\n",
      "File \u001b[1;32mc:\\Users\\Hossein_Haeri\\AppData\\Local\\Programs\\Python\\Python312\\Lib\\site-packages\\seaborn\\_base.py:679\u001b[0m, in \u001b[0;36mVectorPlotter.assign_variables\u001b[1;34m(self, data, variables)\u001b[0m\n\u001b[0;32m    674\u001b[0m \u001b[38;5;28;01melse\u001b[39;00m:\n\u001b[0;32m    675\u001b[0m     \u001b[38;5;66;03m# When dealing with long-form input, use the newer PlotData\u001b[39;00m\n\u001b[0;32m    676\u001b[0m     \u001b[38;5;66;03m# object (internal but introduced for the objects interface)\u001b[39;00m\n\u001b[0;32m    677\u001b[0m     \u001b[38;5;66;03m# to centralize / standardize data consumption logic.\u001b[39;00m\n\u001b[0;32m    678\u001b[0m     \u001b[38;5;28mself\u001b[39m\u001b[38;5;241m.\u001b[39minput_format \u001b[38;5;241m=\u001b[39m \u001b[38;5;124m\"\u001b[39m\u001b[38;5;124mlong\u001b[39m\u001b[38;5;124m\"\u001b[39m\n\u001b[1;32m--> 679\u001b[0m     plot_data \u001b[38;5;241m=\u001b[39m \u001b[43mPlotData\u001b[49m\u001b[43m(\u001b[49m\u001b[43mdata\u001b[49m\u001b[43m,\u001b[49m\u001b[43m \u001b[49m\u001b[43mvariables\u001b[49m\u001b[43m)\u001b[49m\n\u001b[0;32m    680\u001b[0m     frame \u001b[38;5;241m=\u001b[39m plot_data\u001b[38;5;241m.\u001b[39mframe\n\u001b[0;32m    681\u001b[0m     names \u001b[38;5;241m=\u001b[39m plot_data\u001b[38;5;241m.\u001b[39mnames\n",
      "File \u001b[1;32mc:\\Users\\Hossein_Haeri\\AppData\\Local\\Programs\\Python\\Python312\\Lib\\site-packages\\seaborn\\_core\\data.py:58\u001b[0m, in \u001b[0;36mPlotData.__init__\u001b[1;34m(self, data, variables)\u001b[0m\n\u001b[0;32m     51\u001b[0m \u001b[38;5;28;01mdef\u001b[39;00m \u001b[38;5;21m__init__\u001b[39m(\n\u001b[0;32m     52\u001b[0m     \u001b[38;5;28mself\u001b[39m,\n\u001b[0;32m     53\u001b[0m     data: DataSource,\n\u001b[0;32m     54\u001b[0m     variables: \u001b[38;5;28mdict\u001b[39m[\u001b[38;5;28mstr\u001b[39m, VariableSpec],\n\u001b[0;32m     55\u001b[0m ):\n\u001b[0;32m     57\u001b[0m     data \u001b[38;5;241m=\u001b[39m handle_data_source(data)\n\u001b[1;32m---> 58\u001b[0m     frame, names, ids \u001b[38;5;241m=\u001b[39m \u001b[38;5;28;43mself\u001b[39;49m\u001b[38;5;241;43m.\u001b[39;49m\u001b[43m_assign_variables\u001b[49m\u001b[43m(\u001b[49m\u001b[43mdata\u001b[49m\u001b[43m,\u001b[49m\u001b[43m \u001b[49m\u001b[43mvariables\u001b[49m\u001b[43m)\u001b[49m\n\u001b[0;32m     60\u001b[0m     \u001b[38;5;28mself\u001b[39m\u001b[38;5;241m.\u001b[39mframe \u001b[38;5;241m=\u001b[39m frame\n\u001b[0;32m     61\u001b[0m     \u001b[38;5;28mself\u001b[39m\u001b[38;5;241m.\u001b[39mnames \u001b[38;5;241m=\u001b[39m names\n",
      "File \u001b[1;32mc:\\Users\\Hossein_Haeri\\AppData\\Local\\Programs\\Python\\Python312\\Lib\\site-packages\\seaborn\\_core\\data.py:232\u001b[0m, in \u001b[0;36mPlotData._assign_variables\u001b[1;34m(self, data, variables)\u001b[0m\n\u001b[0;32m    230\u001b[0m     \u001b[38;5;28;01melse\u001b[39;00m:\n\u001b[0;32m    231\u001b[0m         err \u001b[38;5;241m+\u001b[39m\u001b[38;5;241m=\u001b[39m \u001b[38;5;124m\"\u001b[39m\u001b[38;5;124mAn entry with this name does not appear in `data`.\u001b[39m\u001b[38;5;124m\"\u001b[39m\n\u001b[1;32m--> 232\u001b[0m     \u001b[38;5;28;01mraise\u001b[39;00m \u001b[38;5;167;01mValueError\u001b[39;00m(err)\n\u001b[0;32m    234\u001b[0m \u001b[38;5;28;01melse\u001b[39;00m:\n\u001b[0;32m    235\u001b[0m \n\u001b[0;32m    236\u001b[0m     \u001b[38;5;66;03m# Otherwise, assume the value somehow represents data\u001b[39;00m\n\u001b[0;32m    237\u001b[0m \n\u001b[0;32m    238\u001b[0m     \u001b[38;5;66;03m# Ignore empty data structures\u001b[39;00m\n\u001b[0;32m    239\u001b[0m     \u001b[38;5;28;01mif\u001b[39;00m \u001b[38;5;28misinstance\u001b[39m(val, Sized) \u001b[38;5;129;01mand\u001b[39;00m \u001b[38;5;28mlen\u001b[39m(val) \u001b[38;5;241m==\u001b[39m \u001b[38;5;241m0\u001b[39m:\n",
      "\u001b[1;31mValueError\u001b[0m: Could not interpret value `type` for `x`. An entry with this name does not appear in `data`."
     ]
    }
   ],
   "source": [
    "%matplotlib qt\n",
    "\n",
    "plt.close('all')\n",
    "# set theme for seaborn\n",
    "sns.set_theme(style='whitegrid')\n",
    "\n",
    "colors = ['#FF5733', '#33FF57', '#3357FF']\n",
    "\n",
    "# create a sns barplot of MAE, RMSE, R2 for each hor_candids configuration\n",
    "def plot_metrics(df, metric):\n",
    "\n",
    "    plt.figure(figsize=(3, 4))\n",
    "    sns.barplot(x='type', y=metric, data=df, hue='type', palette=colors, width=0.5, order=['uniform', 'normal', 'exact'])\n",
    "    # plt.title(f'{metric} for different distribution of anchor points')\n",
    "    # remove x label\n",
    "    plt.xlabel('Distribution of Anchor Points')\n",
    "    # if metric is runtime add a [s] to the y label\n",
    "    plt.ylabel(f'Runtime [sec]' if metric == 'runtime' else metric)\n",
    "    plt.tight_layout()\n",
    "    plt.show()\n",
    "\n",
    "\n",
    "plot_metrics(df, 'MAE')\n",
    "plot_metrics(df, 'RMSE')\n",
    "plot_metrics(df, 'R2')\n",
    "plot_metrics(df, 'runtime')"
   ]
  },
  {
   "cell_type": "code",
   "execution_count": 14,
   "metadata": {},
   "outputs": [],
   "source": [
    "# open melbourne_housing_clean.csv from datasets folder into df\n",
    "\n",
    "import pandas as pd\n",
    "import matplotlib.pyplot as plt\n",
    "import seaborn as sns\n",
    "%matplotlib qt\n",
    "df = pd.read_csv('datasets/melbourne_housing_clean.csv')\n",
    "\n",
    "# # plot the distribution of Latitude and Longitude\n",
    "# plt.figure(figsize=(6, 6))\n",
    "# sns.scatterplot(x='Lattitude', y='Longtitude', data=df, alpha=0.05, s=10, color='blue')\n",
    "# plt.title('Distribution of Latitude and Longitude')\n",
    "# plt.tight_layout()\n",
    "# plt.show()\n",
    "\n",
    "# # plot the distribution of Price\n",
    "# plt.figure(figsize=(6, 4))\n",
    "# sns.histplot(df['Price'], bins=100)\n",
    "# plt.title('Distribution of Price')\n",
    "# plt.xlabel('Price')\n",
    "# plt.ylabel('Frequency')\n",
    "# plt.tight_layout()\n",
    "\n",
    "\n",
    "# lineplot the average monthly price over Date\n",
    "\n",
    "\n",
    "\n",
    "df['Date'] = pd.to_datetime(df['Date'])\n",
    "df['Month'] = df['Date'].dt.month\n",
    "df['Year'] = df['Date'].dt.year\n",
    "df['MonthYear'] = df['Date'].dt.to_period('M')\n",
    "\n",
    "df['MonthYear'] = df['MonthYear'].astype(str)\n",
    "\n",
    "df = df.groupby('MonthYear').mean().reset_index()\n",
    "\n",
    "\n",
    "df['MonthYear'] = pd.to_datetime(df['MonthYear'])\n",
    "\n",
    "\n",
    "plt.figure(figsize=(10, 4))\n",
    "sns.lineplot(x='MonthYear', y='Price', data=df)\n",
    "plt.title('Average Monthly Price')\n",
    "plt.xlabel('Date')\n",
    "plt.ylabel('Price (x1000 AUD)')\n",
    "# make sure xlim is set to min and max of the Date column\n",
    "plt.xlim(df['MonthYear'].min(), df['MonthYear'].max())\n",
    "plt.grid(True)\n",
    "plt.tight_layout()\n",
    "plt.show()\n",
    "\n",
    "\n",
    "\n"
   ]
  },
  {
   "cell_type": "code",
   "execution_count": 11,
   "metadata": {},
   "outputs": [
    {
     "data": {
      "text/plain": [
       "0    2016-02-01\n",
       "1    2016-04-01\n",
       "2    2016-05-01\n",
       "3    2016-06-01\n",
       "4    2016-07-01\n",
       "5    2016-08-01\n",
       "6    2016-09-01\n",
       "7    2016-10-01\n",
       "8    2016-11-01\n",
       "9    2016-12-01\n",
       "10   2017-02-01\n",
       "11   2017-03-01\n",
       "12   2017-04-01\n",
       "13   2017-05-01\n",
       "14   2017-06-01\n",
       "15   2017-07-01\n",
       "16   2017-08-01\n",
       "17   2017-09-01\n",
       "18   2017-10-01\n",
       "19   2017-11-01\n",
       "20   2017-12-01\n",
       "21   2018-01-01\n",
       "22   2018-02-01\n",
       "23   2018-03-01\n",
       "Name: MonthYear, dtype: datetime64[ns]"
      ]
     },
     "execution_count": 11,
     "metadata": {},
     "output_type": "execute_result"
    }
   ],
   "source": [
    "df['MonthYear']"
   ]
  }
 ],
 "metadata": {
  "kernelspec": {
   "display_name": "Python 3",
   "language": "python",
   "name": "python3"
  },
  "language_info": {
   "codemirror_mode": {
    "name": "ipython",
    "version": 3
   },
   "file_extension": ".py",
   "mimetype": "text/x-python",
   "name": "python",
   "nbconvert_exporter": "python",
   "pygments_lexer": "ipython3",
   "version": "3.12.2"
  }
 },
 "nbformat": 4,
 "nbformat_minor": 2
}
