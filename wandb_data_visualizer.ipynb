{
 "cells": [
  {
   "cell_type": "code",
   "execution_count": 2,
   "metadata": {},
   "outputs": [],
   "source": [
    "import wandb\n",
    "import numpy as np\n",
    "import pandas as pd\n",
    "import matplotlib.pyplot as plt\n",
    "import seaborn as sns"
   ]
  },
  {
   "cell_type": "code",
   "execution_count": 9,
   "metadata": {},
   "outputs": [
    {
     "name": "stdout",
     "output_type": "stream",
     "text": [
      "Number of runs: 10\n"
     ]
    }
   ],
   "source": [
    "# Initialize the API\n",
    "api = wandb.Api()\n",
    "\n",
    "# Specify your project details\n",
    "entity = \"haeri-hsn\"  # Replace with your wandb entity\n",
    "project = \"stream_learning\"  # Replace with your wandb project name\n",
    "\n",
    "# Define filters\n",
    "filters = {\n",
    "    'state': 'finished',  # Only fetch finished runs\n",
    "    'tags': {'$in': ['anchor_1000_normal']}  # Runs containing a specific tag msmsa_horizon_analysis_melbourne_housing \\ msmsa_anchor_analysis_melbourne_housing\n",
    "}\n",
    "\n",
    "# Query runs with filters\n",
    "runs = api.runs(f\"{entity}/{project}\", filters=filters)\n",
    "\n",
    "# print number of runs\n",
    "print(f\"Number of runs: {len(runs)}\")"
   ]
  },
  {
   "cell_type": "code",
   "execution_count": 10,
   "metadata": {},
   "outputs": [],
   "source": [
    "run_data = []\n",
    "for run in runs:\n",
    "    # if ('msmsa_horizon_analysis_melbourne_housing' in run.tags) and len(run.config['hor_candids']) == 7:\n",
    "    #     continue\n",
    "    # print(run.summary)\n",
    "    run_dict = {\n",
    "\n",
    "        \n",
    "        'id': run.id,\n",
    "        'name': run.name,\n",
    "        'method': run.config['method'],\n",
    "        'dataset': run.config['dataset'],\n",
    "        'base_learner': run.config['base_learner'],\n",
    "        'hor_candids': run.config['hor_candids'],\n",
    "        'num_anchors': run.config['num_anchors'],\n",
    "\n",
    "        'MAE': run.config['MAE'],\n",
    "        'RMSE': run.config['RMSE'],\n",
    "        'R2': run.config['R2'],\n",
    "        'base_learner_params': run.config['base_learner_params'],\n",
    "\n",
    "        # print(run.summary)\n",
    "        'runtime': run.summary['_runtime'],  # Add runtime in seconds\n",
    "        'num_timesteps': run.summary['_step'],  # Add runtime in seconds\n",
    "        'num_train_samples': run.summary['num_train_samples'],\n",
    "        'run_abs_error': run.summary['run_abs_error'],\n",
    "        'run_y': run.summary['run_y'],\n",
    "        'run_y_pred': run.summary['run_y_pred'],\n",
    "        'tags': run.tags,\n",
    "\n",
    "        # 'hor_candids': run.config.hor_candids,\n",
    "        # 'num_anchors': run.config.num_anchors,\n",
    "        # 'updated_at': run.config.updated_at,\n",
    "        # 'MAE': run.tags,\n",
    "        # 'RMSE': run.notes,\n",
    "        # 'R2': run.config.R2,\n",
    "        # 'base_learner_params': run.config.base_learner_params,\n",
    "\n",
    "        # 'num_train_samples': run.config.num_train_samples,\n",
    "        # 'run_abs_error': run.configrun_abs_error,\n",
    "        # 'run_y': run.config.run_y,\n",
    "        # 'run_y_pred': run.config.run_y_pred,\n",
    "\n",
    "    }\n",
    "    run_data.append(run_dict)\n",
    "\n",
    "# Convert to DataFrame\n",
    "df_normal = pd.DataFrame(run_data)"
   ]
  },
  {
   "cell_type": "code",
   "execution_count": 12,
   "metadata": {},
   "outputs": [],
   "source": [
    "# combine df_uniform df_normal and df_exact into one dataframe add include a column for the type of data\n",
    "df_normal['type'] = 'normal'\n",
    "df_uniform['type'] = 'uniform'\n",
    "df_exact['type'] = 'exact'\n",
    "\n",
    "df = pd.concat([df_normal, df_uniform, df_exact])\n",
    "\n",
    "# pickle the dataframe\n",
    "df.to_pickle('df_anchor_distributions.pkl')\n"
   ]
  },
  {
   "cell_type": "markdown",
   "metadata": {},
   "source": [
    "## Horizon Analysis"
   ]
  },
  {
   "cell_type": "code",
   "execution_count": 12,
   "metadata": {},
   "outputs": [
    {
     "name": "stderr",
     "output_type": "stream",
     "text": [
      "2024-06-11 23:54:42.011 python[37274:14219317] Warning: Window move completed without beginning\n"
     ]
    }
   ],
   "source": [
    "%matplotlib qt\n",
    "\n",
    "plt.close('all')\n",
    "# set theme for seaborn\n",
    "sns.set_theme(style='whitegrid')\n",
    "\n",
    "\n",
    "# assuming hor_candids is a list of integers, make another column (num_hor_candids) with the length of the list\n",
    "df['num_hor_candids'] = df['hor_candids'].apply(len)\n",
    "\n",
    "# remove rows with \n",
    "df = df.sort_values(by='num_hor_candids')\n",
    "# Now create another column where if num_hor_candids is 7, then the value is 'exponential(^2)', if  37, then 'exponential(^1.15)' and if 991 then 'full'\n",
    "df['hor_candids_type'] = df['num_hor_candids'].apply(lambda x: 'exponent=2' if x == 7 else 'exponent=1.15' if x == 37 else 'linear (full)')\n",
    "\n",
    "# create a sns barplot of MAE, RMSE, R2 for each hor_candids configuration\n",
    "def plot_metrics(df, metric):\n",
    "\n",
    "    plt.figure(figsize=(4.5, 4))\n",
    "    sns.barplot(x='hor_candids_type', y=metric, data=df, hue='hor_candids_type', palette='viridis', width=0.5)\n",
    "    plt.title(f'{metric} for different horizon candidates setting')\n",
    "    # remove x label\n",
    "    plt.xlabel('Type of Setting')\n",
    "    # if metric is runtime add a [s] to the y label\n",
    "    plt.ylabel(f'Runtime [sec]' if metric == 'runtime' else metric)\n",
    "    plt.tight_layout()\n",
    "    plt.show()\n",
    "\n",
    "\n",
    "plot_metrics(df, 'MAE')\n",
    "plot_metrics(df, 'RMSE')\n",
    "plot_metrics(df, 'R2')\n",
    "plot_metrics(df, 'runtime')\n",
    "\n"
   ]
  },
  {
   "cell_type": "markdown",
   "metadata": {},
   "source": [
    "## Anchor Analysis"
   ]
  },
  {
   "cell_type": "code",
   "execution_count": 24,
   "metadata": {},
   "outputs": [],
   "source": [
    "%matplotlib qt\n",
    "\n",
    "plt.close('all')\n",
    "# set theme for seaborn\n",
    "sns.set_theme(style='whitegrid')\n",
    "\n",
    "colors = ['#FF5733', '#33FF57', '#3357FF']\n",
    "\n",
    "# create a sns barplot of MAE, RMSE, R2 for each hor_candids configuration\n",
    "def plot_metrics(df, metric):\n",
    "\n",
    "    plt.figure(figsize=(3, 4))\n",
    "    sns.barplot(x='type', y=metric, data=df, hue='type', palette=colors, width=0.5, order=['uniform', 'normal', 'exact'])\n",
    "    # plt.title(f'{metric} for different distribution of anchor points')\n",
    "    # remove x label\n",
    "    plt.xlabel('Distribution of Anchor Points')\n",
    "    # if metric is runtime add a [s] to the y label\n",
    "    plt.ylabel(f'Runtime [sec]' if metric == 'runtime' else metric)\n",
    "    plt.tight_layout()\n",
    "    plt.show()\n",
    "\n",
    "\n",
    "plot_metrics(df, 'MAE')\n",
    "plot_metrics(df, 'RMSE')\n",
    "plot_metrics(df, 'R2')\n",
    "plot_metrics(df, 'runtime')"
   ]
  }
 ],
 "metadata": {
  "kernelspec": {
   "display_name": "Python 3",
   "language": "python",
   "name": "python3"
  },
  "language_info": {
   "codemirror_mode": {
    "name": "ipython",
    "version": 3
   },
   "file_extension": ".py",
   "mimetype": "text/x-python",
   "name": "python",
   "nbconvert_exporter": "python",
   "pygments_lexer": "ipython3",
   "version": "3.12.2"
  }
 },
 "nbformat": 4,
 "nbformat_minor": 2
}
