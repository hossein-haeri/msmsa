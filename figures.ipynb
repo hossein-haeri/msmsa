{
 "cells": [
  {
   "cell_type": "code",
   "execution_count": 9,
   "metadata": {},
   "outputs": [
    {
     "name": "stdout",
     "output_type": "stream",
     "text": [
      "Index(['UnixTime', 'Timestamp', 'Latitude', 'Longitude', 'Height', 'Speed',\n",
      "       'Direction', 'Ta', 'Tsurf', 'Distance', 'S1', 'S2', 'S3', 'S9', 'S10',\n",
      "       'S11', 'Hour', 'Month', 'Day', 'VehicleID', 'TripID', 'Friction'],\n",
      "      dtype='object')\n"
     ]
    }
   ],
   "source": [
    "import matplotlib.pyplot as plt\n",
    "import numpy as np\n",
    "import pickle\n",
    "import pandas as pd\n",
    "import seaborn as sns\n",
    "import math\n",
    "\n",
    "def haversine_distance(lat1, lon1, lat2, lon2):\n",
    "    \"\"\"\n",
    "    Calculate the great circle distance in kilometers between two points \n",
    "    on the earth specified in decimal degrees using the Haversine formula.\n",
    "    \"\"\"\n",
    "    # Convert decimal degrees to radians \n",
    "    lon1, lat1, lon2, lat2 = map(math.radians, [lon1, lat1, lon2, lat2])\n",
    "\n",
    "    # Haversine formula \n",
    "    dlon = lon2 - lon1 \n",
    "    dlat = lat2 - lat1 \n",
    "    a = math.sin(dlat/2)**2 + math.cos(lat1) * math.cos(lat2) * math.sin(dlon/2)**2\n",
    "    c = 2 * math.asin(math.sqrt(a)) \n",
    "    r = 6371 # Radius of earth in kilometers. Use 3956 for miles\n",
    "    return c * r\n",
    "\n",
    "def calculate_distance(positions):\n",
    "    \"\"\"\n",
    "    Calculate normalized cumulative distances (s values) for a list of positions.\n",
    "    Each position is a tuple (latitude, longitude).\n",
    "    \"\"\"\n",
    "    distances = []\n",
    "    cumulative_distances = [0]  # Start with 0 for the first position\n",
    "\n",
    "    # Calculate distances between consecutive points\n",
    "    for i in range(1, len(positions)):\n",
    "        lat1, lon1 = positions[i - 1]\n",
    "        lat2, lon2 = positions[i]\n",
    "        dist = haversine_distance(lat1, lon1, lat2, lon2)\n",
    "        \n",
    "        distances.append(dist)\n",
    "        cumulative_distances.append(cumulative_distances[-1] + dist)\n",
    "\n",
    "    # Normalize cumulative distances\n",
    "    total_distance = cumulative_distances[-1]\n",
    "    \n",
    "    # s_values = [cd / total_distance for cd in cumulative_distances]\n",
    "\n",
    "    return total_distance\n",
    "\n",
    "\n",
    "with open('datasets/teconer_helsinki_jan2018_df.pkl', 'rb') as f:\n",
    "    df = pickle.load(f)\n",
    "    print(df.columns)\n"
   ]
  },
  {
   "cell_type": "code",
   "execution_count": 5,
   "metadata": {},
   "outputs": [
    {
     "ename": "ZeroDivisionError",
     "evalue": "division by zero",
     "output_type": "error",
     "traceback": [
      "\u001b[1;31m---------------------------------------------------------------------------\u001b[0m",
      "\u001b[1;31mZeroDivisionError\u001b[0m                         Traceback (most recent call last)",
      "Cell \u001b[1;32mIn[5], line 8\u001b[0m\n\u001b[0;32m      6\u001b[0m \u001b[38;5;28;01mfor\u001b[39;00m name, group \u001b[38;5;129;01min\u001b[39;00m grouped:\n\u001b[0;32m      7\u001b[0m     positions \u001b[38;5;241m=\u001b[39m \u001b[38;5;28mlist\u001b[39m(\u001b[38;5;28mzip\u001b[39m(group[\u001b[38;5;124m'\u001b[39m\u001b[38;5;124mLatitude\u001b[39m\u001b[38;5;124m'\u001b[39m], group[\u001b[38;5;124m'\u001b[39m\u001b[38;5;124mLongitude\u001b[39m\u001b[38;5;124m'\u001b[39m]))\n\u001b[1;32m----> 8\u001b[0m     s_values\u001b[38;5;241m.\u001b[39mextend(\u001b[43mcalculate_s_values\u001b[49m\u001b[43m(\u001b[49m\u001b[43mpositions\u001b[49m\u001b[43m)\u001b[49m)\n\u001b[0;32m     10\u001b[0m df[\u001b[38;5;124m'\u001b[39m\u001b[38;5;124ms\u001b[39m\u001b[38;5;124m'\u001b[39m] \u001b[38;5;241m=\u001b[39m s_values\n",
      "Cell \u001b[1;32mIn[4], line 44\u001b[0m, in \u001b[0;36mcalculate_s_values\u001b[1;34m(positions)\u001b[0m\n\u001b[0;32m     41\u001b[0m \u001b[38;5;66;03m# Normalize cumulative distances\u001b[39;00m\n\u001b[0;32m     42\u001b[0m total_distance \u001b[38;5;241m=\u001b[39m cumulative_distances[\u001b[38;5;241m-\u001b[39m\u001b[38;5;241m1\u001b[39m]\n\u001b[1;32m---> 44\u001b[0m s_values \u001b[38;5;241m=\u001b[39m [\u001b[43mcd\u001b[49m\u001b[43m \u001b[49m\u001b[38;5;241;43m/\u001b[39;49m\u001b[43m \u001b[49m\u001b[43mtotal_distance\u001b[49m \u001b[38;5;28;01mfor\u001b[39;00m cd \u001b[38;5;129;01min\u001b[39;00m cumulative_distances]\n\u001b[0;32m     46\u001b[0m \u001b[38;5;28;01mreturn\u001b[39;00m s_values\n",
      "\u001b[1;31mZeroDivisionError\u001b[0m: division by zero"
     ]
    }
   ],
   "source": [
    "\n",
    "\n",
    "\n"
   ]
  },
  {
   "cell_type": "code",
   "execution_count": 11,
   "metadata": {},
   "outputs": [
    {
     "name": "stdout",
     "output_type": "stream",
     "text": [
      "{'Number of Trips': 876, 'Number of Records': 1845547, 'Friction Mean': 0.6343880378012585, 'Friction Std': 0.1673198325555451, 'Average Speed': 20.843659684635504, 'Average Trip Length': 14.67026014138912}\n"
     ]
    }
   ],
   "source": [
    "# print the number of unuique TripID\n",
    "info = {}\n",
    "info['Number of Trips'] = len(df['TripID'].unique())\n",
    "info['Number of Records'] = len(df)\n",
    "info['Friction Mean'] = df['Friction'].mean()\n",
    "info['Friction Std'] = df['Friction'].std()\n",
    "info['Average Speed'] = df['Speed'].mean()\n",
    "\n",
    "\n",
    "# group by TripID\n",
    "grouped = df.groupby('TripID')\n",
    "trip_lengths = []\n",
    "# calculate s values for each trip as an additional column\n",
    "s_values = []\n",
    "for name, group in grouped:\n",
    "    # calculate the distance\n",
    "    dist = calculate_distance(list(zip(group['Latitude'], group['Longitude'])))\n",
    "    trip_lengths.append(dist)\n",
    "    \n",
    "\n",
    "info['Average Trip Length'] = np.mean(trip_lengths)\n",
    "\n",
    "print(info)"
   ]
  },
  {
   "cell_type": "code",
   "execution_count": 30,
   "metadata": {},
   "outputs": [],
   "source": [
    "%matplotlib qt\n",
    "plt.close('all')\n",
    "\n",
    "# randomly sample 10K records\n",
    "# sample = df.sample(1000000)\n",
    "sample = df\n",
    "# scatter plot the lat long or the records\n",
    "# markers = [[60.235312, 24.899538],[60.237943, 25.040537], [60.209376, 24.815294]]\n",
    "plt.figure(figsize=(10, 10))\n",
    "\n",
    "\n",
    "plt.scatter(sample['Longitude'], sample['Latitude'], s=0.1, alpha=0.02)\n",
    "# plt.scatter([m[1] for m in markers], [m[0] for m in markers], c='red', s=100, marker='x')\n",
    "# mark the city Espoo with 60.205620, 24.656452\n",
    "# plt.scatter(24.947722,60.167789, c='green', s=100, marker='x')\n",
    "plt.xlabel('Longitude')\n",
    "plt.ylabel('Latitude')\n",
    "plt.grid(True)\n",
    "# make the plot square\n",
    "plt.gca().set_aspect('equal', adjustable='box')"
   ]
  },
  {
   "cell_type": "code",
   "execution_count": 49,
   "metadata": {},
   "outputs": [],
   "source": [
    "%matplotlib qt\n",
    "plt.close('all')\n",
    "\n",
    "# for i in range(20):\n",
    "# select samples that are within the first week of January\n",
    "sample = df[(df['Timestamp'] >= '2018-01-03') & (df['Timestamp'] < '2018-01-04')]\n",
    "\n",
    "\n",
    "# scatter plot the lat long or the records\n",
    "# markers = [[60.235312, 24.899538],[60.237943, 25.040537], [60.209376, 24.815294]]\n",
    "plt.figure(figsize=(12, 5))\n",
    "plt.scatter(sample['Longitude'], sample['Latitude'], c=sample['Friction'], cmap='viridis', s=0.05, alpha=0.9, vmin=0.2, vmax=0.8)\n",
    "plt.title('helsinki_day_4')\n",
    "# place colorbar\n",
    "plt.colorbar(label='Friction')\n",
    "plt.xlabel('Longitude')\n",
    "plt.ylabel('Latitude')\n",
    "plt.grid(True)\n",
    "# make the plot square\n",
    "plt.gca().set_aspect('equal', adjustable='box')\n",
    "# save the plot\n",
    "plt.savefig('helsinki_day_4_bar.png')"
   ]
  }
 ],
 "metadata": {
  "kernelspec": {
   "display_name": "Python 3",
   "language": "python",
   "name": "python3"
  },
  "language_info": {
   "codemirror_mode": {
    "name": "ipython",
    "version": 3
   },
   "file_extension": ".py",
   "mimetype": "text/x-python",
   "name": "python",
   "nbconvert_exporter": "python",
   "pygments_lexer": "ipython3",
   "version": "3.12.2"
  }
 },
 "nbformat": 4,
 "nbformat_minor": 2
}
