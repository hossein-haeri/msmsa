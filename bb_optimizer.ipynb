{
 "cells": [
  {
   "cell_type": "code",
   "execution_count": 3,
   "metadata": {},
   "outputs": [],
   "source": [
    "import numpy as np\n",
    "np.random.seed(237)\n",
    "import matplotlib.pyplot as plt\n",
    "%matplotlib qt\n",
    "from skopt.plots import plot_gaussian_process"
   ]
  },
  {
   "cell_type": "code",
   "execution_count": null,
   "metadata": {},
   "outputs": [],
   "source": []
  },
  {
   "cell_type": "code",
   "execution_count": 143,
   "metadata": {},
   "outputs": [],
   "source": [
    "noise_level = 0.1\n",
    "\n",
    "def f(x, noise_level=noise_level):\n",
    "    # assuming x as n elements, make some toy data using all elements where the output is sum of all even elements squared + sum of all odd elements\n",
    "    # print(x.shape)\n",
    "    x = np.array(x)\n",
    "    return (np.sum((x[::3]-1) ** 2) + np.cos(np.sum(x[1::2])))\n",
    "\n",
    "n = 1000\n",
    "d = 100\n",
    "# Plot f(x) + contours\n",
    "x = np.zeros((n, d))\n",
    "for i in range(d):\n",
    "    x[:, i] = np.linspace(-5, 5, n)\n",
    "\n",
    "# print(x.shape)\n",
    "# fx = np.array([f(x_i, noise_level=0.0) for x_i in x]).squeeze()\n",
    "# print(fx.shape)\n",
    "# plt.plot(x[:,0], fx, \"b--\", label=\"True (unknown)\")\n",
    "# plt.plot(x[:,1], fx, \"r--\", label=\"True (unknown)\")\n",
    "# plt.grid()\n",
    "# plt.show()\n",
    "\n",
    "## sample fx in 2D and plot heatmap\n",
    "# n = 100\n",
    "# x1 = np.linspace(-5, 2, n)\n",
    "# x2 = np.linspace(-5, 2, n)\n",
    "# X1, X2 = np.meshgrid(x1, x2)\n",
    "# X = np.c_[X1.ravel(), X2.ravel()]\n",
    "# print(X.shape)\n",
    "# fx = np.array([f(x_i, noise_level=0.0) for x_i in X]).squeeze()\n",
    "# print(fx.shape)\n",
    "# fx = fx.reshape(X1.shape)\n",
    "# plt.close('all')\n",
    "# plt.contourf(X1, X2, fx, cmap='viridis', alpha=0.6, levels=100)\n",
    "# plt.colorbar()\n",
    "\n",
    "\n"
   ]
  },
  {
   "cell_type": "code",
   "execution_count": null,
   "metadata": {},
   "outputs": [],
   "source": []
  },
  {
   "cell_type": "code",
   "execution_count": 145,
   "metadata": {},
   "outputs": [],
   "source": [
    "from skopt import gp_minimize\n",
    "\n",
    "bounds = [(-5.0, 5.0)]*d\n",
    "# print(bounds)\n",
    "res = gp_minimize(f,                  # the function to minimize\n",
    "                  bounds,      # the bounds on each dimension of x\n",
    "                  acq_func=\"EI\",      # the acquisition function\n",
    "                  n_calls=10,         # the number of evaluations of f\n",
    "                  n_random_starts=5,  # the number of random initialization points\n",
    "                  noise=0.1**2,       # the noise level (optional)\n",
    "                  random_state=1234)   # the random seed"
   ]
  },
  {
   "cell_type": "code",
   "execution_count": 146,
   "metadata": {},
   "outputs": [
    {
     "name": "stdout",
     "output_type": "stream",
     "text": [
      "[-1.8935370650819334, 2.7118148668614372, -2.33423841850362, -1.345418126844888, -4.483175804407401, -4.880855132714146, 4.423629799491401, 4.49554976197129, 4.667326860070757, -0.6080059484660119, -3.344138423978566, 4.857253350750149, 2.7168361670213397, 3.418614436777805, -1.9849973962861607, 4.503996591168827, 2.8334247130933834, -1.2839168376672978, -2.3905135514419746, -0.6013585258299594, -0.6422475122005977, 0.9148367460493585, 2.3159736124786185, -4.39747065969931, -1.3980112454193265, -2.8920276431036744, -0.3603759531984547, 4.009038013961057, -2.086794157582745, 3.0347070457825733, -0.8993946667513537, 0.6073403331975777, -1.9566786276529853, -1.4908788594178284, 4.19799001071155, -3.147853526822265, -2.031288396600057, -4.854953960951104, 0.717279217750387, 1.9007175983469118, 2.186275081724613, -0.5946265057553752, -0.16679322598976576, -0.6513477292135148, -3.375855456694524, 1.9339442618282892, -4.578500153072911, 1.6037428104076419, -0.7034399694769053, -2.0477149958102987, -3.005063472811507, -1.9014807090917745, 0.37753091699640606, 1.310782560172977, -1.4108985887512708, 3.0593306018633033, -2.9362573537373677, 3.269573936787115, -2.1541279883709237, 1.7782736810127107, -0.05466942946383391, -2.2875968864335454, 0.9433539195968361, 1.7969529482137556, 3.407206883059896, -2.0131794680070674, -1.0091321131605433, 3.75513870588229, 3.01482708811381, 2.4667391248859607, 4.644435038406829, -1.4633889475934376, 1.19930080835704, 1.5426564460620202, -4.010207771489177, -1.4653316784244614, 0.8703260218401487, 0.33529716834306633, -3.076595170986374, -0.8098771324554903, -3.0754721928774402, -4.60388785744942, -4.528480339024223, 0.6577130766333505, -1.3490719520986922, 1.0713434445037286, 3.1134923558812684, -2.9392485720389567, -1.7606103641288668, 2.5066714037985296, 1.0142522058644463, -0.16044614125199175, 4.4671988928110515, 1.61601619638901, 1.9741383394277365, 1.9644445875903216, 1.296490641396125, 2.883956890213729, 3.9518034940215667, 0.27681729822987133]\n",
      "198.67894980689087\n"
     ]
    }
   ],
   "source": [
    "print(res.x)\n",
    "print(res.fun)"
   ]
  },
  {
   "cell_type": "code",
   "execution_count": 144,
   "metadata": {},
   "outputs": [
    {
     "name": "stdout",
     "output_type": "stream",
     "text": [
      "(8_w,17)-aCMA-ES (mu_w=5.1,w_1=31%) in dimension 100 (seed=934624, Thu Mar  7 15:37:13 2024)\n",
      "Iterat #Fevals   function value  axis ratio  sigma  min&max std  t[m:s]\n",
      "    1     17 3.186972855253612e+01 1.0e+00 4.82e-01  5e-01  5e-01 0:00.1\n",
      "    2     34 2.694771508649593e+01 1.0e+00 4.67e-01  5e-01  5e-01 0:00.1\n",
      "    3     51 2.176539388171173e+01 1.0e+00 4.58e-01  5e-01  5e-01 0:00.1\n",
      "  100   1700 8.310655807228474e-01 1.2e+00 2.16e-01  2e-01  2e-01 0:00.6\n",
      "  200   3400 -5.659215860707163e-01 1.5e+00 1.00e-01  1e-01  1e-01 0:01.0\n",
      "  300   5100 -9.279000718215309e-01 1.6e+00 3.96e-02  4e-02  4e-02 0:01.3\n",
      "  400   6800 -9.865353210226192e-01 1.8e+00 2.15e-02  2e-02  2e-02 0:01.6\n",
      "  500   8500 -9.975470600076383e-01 2.0e+00 8.44e-03  8e-03  9e-03 0:02.1\n",
      "  600  10200 -9.994701396561090e-01 2.2e+00 3.77e-03  3e-03  4e-03 0:02.4\n",
      "  700  11900 -9.999432622672886e-01 2.4e+00 1.40e-03  1e-03  1e-03 0:02.7\n",
      "  800  13600 -9.999952316465572e-01 2.6e+00 4.31e-04  4e-04  5e-04 0:03.0\n",
      "  900  15300 -9.999994058622320e-01 2.8e+00 1.36e-04  1e-04  1e-04 0:03.4\n",
      " 1000  17000 -9.999999375163070e-01 3.0e+00 5.17e-05  4e-05  5e-05 0:03.7\n",
      "Iterat #Fevals   function value  axis ratio  sigma  min&max std  t[m:s]\n",
      " 1100  18700 -9.999999852876709e-01 3.3e+00 2.57e-05  2e-05  3e-05 0:04.0\n",
      " 1200  20400 -9.999999975452343e-01 3.7e+00 1.05e-05  9e-06  1e-05 0:04.4\n",
      " 1300  22100 -9.999999991857578e-01 3.9e+00 5.54e-06  4e-06  6e-06 0:04.7\n",
      " 1400  23800 -9.999999999002299e-01 4.2e+00 1.83e-06  1e-06  2e-06 0:05.0\n",
      " 1500  25500 -9.999999999930338e-01 4.5e+00 6.30e-07  5e-07  7e-07 0:05.4\n",
      " 1600  27200 -9.999999999985933e-01 4.7e+00 2.40e-07  2e-07  3e-07 0:05.7\n",
      " 1677  28509 -9.999999999996363e-01 5.1e+00 1.32e-07  1e-07  1e-07 0:06.0\n",
      "termination on tolfun=1e-11 (Thu Mar  7 15:37:21 2024)\n",
      "final/bestever f-value = -1.000000e+00 -1.000000e+00 after 28510/28510 evaluations\n",
      "incumbent solution: [ 1.00000008 -0.22577677  1.56259265  1.00000012 -0.20875379  0.13767472\n",
      "  0.99999993  0.80543088 ...]\n",
      "std deviations: [9.99772927e-08 1.35756951e-07 1.33138191e-07 1.01238640e-07\n",
      " 1.37821019e-07 1.37377610e-07 1.00319780e-07 1.36367120e-07 ...]\n"
     ]
    }
   ],
   "source": [
    "import cma\n",
    "xopt, es = cma.fmin2(f, d * [0], 0.5)"
   ]
  },
  {
   "cell_type": "code",
   "execution_count": 142,
   "metadata": {},
   "outputs": [
    {
     "name": "stdout",
     "output_type": "stream",
     "text": [
      "[ 1.         -3.14159266]\n"
     ]
    },
    {
     "data": {
      "text/plain": [
       "<cma.logger.CMADataLogger at 0x2940ab800>"
      ]
     },
     "execution_count": 142,
     "metadata": {},
     "output_type": "execute_result"
    }
   ],
   "source": [
    "print(xopt)\n",
    "cma.plot()"
   ]
  }
 ],
 "metadata": {
  "kernelspec": {
   "display_name": "Python 3",
   "language": "python",
   "name": "python3"
  },
  "language_info": {
   "codemirror_mode": {
    "name": "ipython",
    "version": 3
   },
   "file_extension": ".py",
   "mimetype": "text/x-python",
   "name": "python",
   "nbconvert_exporter": "python",
   "pygments_lexer": "ipython3",
   "version": "3.12.1"
  }
 },
 "nbformat": 4,
 "nbformat_minor": 2
}
