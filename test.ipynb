{
 "cells": [
  {
   "cell_type": "code",
   "execution_count": 34,
   "metadata": {},
   "outputs": [],
   "source": [
    "import numpy as np\n",
    "import matplotlib.pyplot as plt\n",
    "import pandas as pd\n",
    "import seaborn as sns\n",
    "import time\n",
    "\n",
    "\n"
   ]
  },
  {
   "cell_type": "code",
   "execution_count": 83,
   "metadata": {},
   "outputs": [],
   "source": [
    "\n",
    "# np.random.seed(1234)\n",
    "stream_size = 1000\n",
    "noise_var = 0.00\n",
    "hyperplane_dimension = 10\n",
    "drift_probability = 0.00\n",
    "\n",
    "stream = []\n",
    "# initialize and normalize w\n",
    "w = np.random.normal(0,scale=1,size=hyperplane_dimension)\n",
    "w = w / np.linalg.norm(w)\n",
    "for k in range(stream_size):\n",
    "    if np.random.uniform() < drift_probability and drift_probability != -1:\n",
    "        w = np.random.normal(0, scale=1, size=hyperplane_dimension)\n",
    "        w = w / np.linalg.norm(w)\n",
    "    if drift_probability == -1 and k == int(stream_size/2):\n",
    "        w = w / np.linalg.norm(w)\n",
    "        w = np.random.normal(0, scale=1, size=hyperplane_dimension)\n",
    "    # draw uniform random samples \n",
    "    X = np.random.uniform(-10, 10, hyperplane_dimension)\n",
    "    # create the target parameter using the features\n",
    "    y = np.dot(X,w)\n",
    "    # make the stream noisy\n",
    "    y = y + np.random.normal(0, noise_var)\n",
    "    stream.append([X, y, w])"
   ]
  },
  {
   "cell_type": "code",
   "execution_count": 177,
   "metadata": {},
   "outputs": [
    {
     "name": "stdout",
     "output_type": "stream",
     "text": [
      "CPU times: user 61.4 ms, sys: 4.11 ms, total: 65.5 ms\n",
      "Wall time: 31.1 ms\n",
      "RF:  1.8819798062261166\n",
      "std y values: 5.618832171280289\n"
     ]
    }
   ],
   "source": [
    "# train a RF regressor on the stream using sklearn\n",
    "from sklearn.ensemble import RandomForestRegressor\n",
    "from sklearn.neural_network import MLPRegressor\n",
    "from sklearn.tree import DecisionTreeRegressor\n",
    "from sklearn.gaussian_process import GaussianProcessRegressor\n",
    "from sklearn.svm import SVR\n",
    "from sklearn.model_selection import train_test_split\n",
    "from sklearn.metrics import mean_squared_error, mean_absolute_error\n",
    "\n",
    "X = np.array([x[0] for x in stream])\n",
    "y = np.array([x[1] for x in stream])\n",
    "\n",
    "# normalize the data\n",
    "X_ = (X - X.mean(axis=0)) / X.std(axis=0)\n",
    "y_ = (y - y.mean()) / y.std()\n",
    "\n",
    "X_train, X_test, y_train, y_test = train_test_split(X_, y_, test_size=0.33, random_state=42)\n",
    "\n",
    "y_test = y_test * y.std() + y.mean()\n",
    "\n",
    "rf = RandomForestRegressor(n_estimators=10, \n",
    "                        #    max_depth=10, \n",
    "                           n_jobs=-1, \n",
    "                        #    oob_score=True,\n",
    "                        #    bootstrap=True,\n",
    "                           )\n",
    "\n",
    "%time rf.fit(X_train, y_train)\n",
    "y_pred = rf.predict(X_test)\n",
    "# scale back the predictions\n",
    "y_pred = y_pred * y.std() + y.mean()\n",
    "print('RF: ', mean_absolute_error(y_test, y_pred))\n",
    "\n",
    "\n",
    "# nn = MLPRegressor(hidden_layer_sizes=(100, 100), max_iter=1000, random_state=0)\n",
    "# %time nn.fit(X_train, y_train)\n",
    "# y_pred = nn.predict(X_test)\n",
    "# y_pred = y_pred * y.std() + y.mean()\n",
    "# print('NN:', mean_absolute_error(y_test, y_pred))\n",
    "\n",
    "\n",
    "# dt = DecisionTreeRegressor(max_depth=5)\n",
    "# %time dt.fit(X_train, y_train)\n",
    "# y_pred = dt.predict(X_test)\n",
    "# y_pred = y_pred * y.std() + y.mean()\n",
    "# print('DT:', mean_absolute_error(y_test, y_pred))\n",
    "\n",
    "# svr = SVR(kernel='rbf', C=100, gamma=0.1, epsilon=.1)\n",
    "# %time svr.fit(X_train, y_train) \n",
    "# y_pred = svr.predict(X_test)\n",
    "# y_pred = y_pred * y.std() + y.mean()\n",
    "# print('SVR:', mean_absolute_error(y_test, y_pred))\n",
    "\n",
    "# gpr = GaussianProcessRegressor(kernel='RBF')\n",
    "# %time gpr.fit(X_train, y_train)\n",
    "# y_pred = gpr.predict(X_test)\n",
    "# y_pred = y_pred * y.std() + y.mean()\n",
    "# print('GPR:', mean_absolute_error(y_test, y_pred))\n",
    "\n",
    "print('std y values:', np.std(y))\n"
   ]
  },
  {
   "cell_type": "code",
   "execution_count": 44,
   "metadata": {},
   "outputs": [
    {
     "name": "stdout",
     "output_type": "stream",
     "text": [
      "std y values: 5.803325520336112\n"
     ]
    }
   ],
   "source": [
    "print('std y values:', np.std(y))"
   ]
  }
 ],
 "metadata": {
  "kernelspec": {
   "display_name": "Python 3",
   "language": "python",
   "name": "python3"
  },
  "language_info": {
   "codemirror_mode": {
    "name": "ipython",
    "version": 3
   },
   "file_extension": ".py",
   "mimetype": "text/x-python",
   "name": "python",
   "nbconvert_exporter": "python",
   "pygments_lexer": "ipython3",
   "version": "3.12.1"
  }
 },
 "nbformat": 4,
 "nbformat_minor": 2
}
