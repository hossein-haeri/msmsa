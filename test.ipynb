{
 "cells": [
  {
   "cell_type": "code",
   "execution_count": 2,
   "metadata": {},
   "outputs": [],
   "source": [
    "import numpy as np\n",
    "import matplotlib.pyplot as plt\n",
    "import pandas as pd\n",
    "import seaborn as sns\n",
    "import time\n",
    "import pickle\n",
    "\n",
    "\n"
   ]
  },
  {
   "cell_type": "code",
   "execution_count": 7,
   "metadata": {},
   "outputs": [
    {
     "name": "stdout",
     "output_type": "stream",
     "text": [
      "           UnixTime           Timestamp   Latitude  Longitude  Height  Speed  \\\n",
      "1421940  1516627798 2018-01-22 13:29:58  60.191305  24.954031    28.0   22.9   \n",
      "680113   1515065608 2018-01-04 11:33:28  60.194093  24.947437    34.0   31.6   \n",
      "1244533  1516176645 2018-01-17 08:10:45  60.210397  25.077656    15.0    0.0   \n",
      "1741382  1517388279 2018-01-31 08:44:39  60.196368  24.928772    27.0   10.0   \n",
      "55348    1515691233 2018-01-11 17:20:33  60.204922  24.848886     3.0  100.3   \n",
      "\n",
      "         Direction   Ta  Tsurf  Distance  ...     S3      S9    S10    S11  \\\n",
      "1421940      126.1 -2.1  -3.14    6699.0  ...  2.829   753.4  798.8  1.795   \n",
      "680113       126.9  5.0   2.67   16780.0  ... -0.459   742.2  789.0  1.795   \n",
      "1244533       61.3 -3.7  -4.11   18775.0  ...  0.410   759.7  804.6  1.810   \n",
      "1741382      175.6 -2.0  -1.98   42414.0  ... -0.111   749.6  796.3  1.795   \n",
      "55348        111.9 -0.7  -1.23  156360.0  ... -0.107  1015.1  674.6  1.807   \n",
      "\n",
      "         Hour  Month  Day  VehicleID  TripID Friction  \n",
      "1421940    13      1   22       1249   14655     0.33  \n",
      "680113     11      1    4       1005   14496     0.71  \n",
      "1244533     8      1   17       0642   14624     0.81  \n",
      "1741382     8      1   31       0538   14716     0.72  \n",
      "55348      17      1   11       1501     548     0.77  \n",
      "\n",
      "[5 rows x 22 columns]\n"
     ]
    }
   ],
   "source": [
    "with open('datasets/teconer_helsinki_jan2018_df.pkl', 'rb') as f:\n",
    "        df = pickle.load(f)\n",
    "        # randomly sample 10K records from the dataset\n",
    "        df = df.sample(n=10000, random_state=1234)\n",
    "\n",
    "print(df.head())\n",
    "# save the dataset to a csv file with the specified columns\n",
    "df.to_csv('datasets/helsinki_10K.csv', columns=['UnixTime', 'Latitude', 'Longitude', 'Height', 'Speed', 'Direction', 'Ta', 'Tsurf', 'Hour', 'Day', 'TripID', 'Friction'], index=False)"
   ]
  }
 ],
 "metadata": {
  "kernelspec": {
   "display_name": "Python 3",
   "language": "python",
   "name": "python3"
  },
  "language_info": {
   "codemirror_mode": {
    "name": "ipython",
    "version": 3
   },
   "file_extension": ".py",
   "mimetype": "text/x-python",
   "name": "python",
   "nbconvert_exporter": "python",
   "pygments_lexer": "ipython3",
   "version": "3.12.1"
  }
 },
 "nbformat": 4,
 "nbformat_minor": 2
}
