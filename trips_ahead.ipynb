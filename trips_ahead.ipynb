{
 "cells": [
  {
   "cell_type": "code",
   "execution_count": 17,
   "metadata": {},
   "outputs": [],
   "source": [
    "import numpy as np\n",
    "import matplotlib.pyplot as plt\n",
    "import pandas as pd\n",
    "import seaborn as sns\n"
   ]
  },
  {
   "cell_type": "code",
   "execution_count": 18,
   "metadata": {},
   "outputs": [
    {
     "name": "stdout",
     "output_type": "stream",
     "text": [
      "173\n"
     ]
    }
   ],
   "source": [
    "# unpickle trips.pkl\n",
    "trips = pd.read_pickle('trips_road_piece_dth_with_preview.pkl')\n",
    "print(len(trips))"
   ]
  },
  {
   "cell_type": "code",
   "execution_count": 25,
   "metadata": {},
   "outputs": [],
   "source": [
    "%matplotlib qt\n",
    "# trip = trips[3000]\n",
    "plt.close('all')\n",
    "virgin = True\n",
    "fig, ax = plt.subplots(1, 3, figsize=(15, 5))\n",
    "for trip in trips[1:]:\n",
    "    \n",
    "\n",
    "    # if len(trip[1]) < 500:\n",
    "    #     continue\n",
    "    trip_id = trip[0]\n",
    "    trip_X = trip[1]\n",
    "    trip_y = trip[2]\n",
    "    trip_y_pred = trip[3]\n",
    "    trip_mem_size = trip[4]\n",
    "\n",
    "    # convert trip_X to dataframe\n",
    "    df = pd.DataFrame(trip_X, columns=['AbsoluteTime','Latitude', 'Longitude','Tsurf', 'Ta','Hours','Speed'])\n",
    "\n",
    "\n",
    "\n",
    "   # convert trip_X to dataframe\n",
    "    # df = pd.DataFrame(trip_X, columns=['Latitude', 'Longitude'])\n",
    "    df['AbsoluteTime'] = df['AbsoluteTime'] - df['AbsoluteTime'].min()\n",
    "    df['friction'] = trip_y\n",
    "    df['friction_pred'] = trip_y_pred\n",
    "\n",
    "    \n",
    "\n",
    "    # create subplots\n",
    "\n",
    "    ax[0].cla()\n",
    "    ax[1].cla()\n",
    "    ax[2].cla()\n",
    "    # # scatter plot of friction in a lat long 2D space\n",
    "    # sns.scatterplot(x='Longitude', y='Latitude', data=df, hue='friction', ax=ax[0], s=10, palette='Spectral', hue_norm=(0.1,.9),legend=False)\n",
    "    # ax[0].set_title('Measured - '+str(trip_id))\n",
    "\n",
    "    # # scatter plot of friction in a lat long 2D space\n",
    "    # sns.scatterplot(x='Longitude', y='Latitude', data=df, hue='friction_pred', ax=ax[1], s=10, palette='Spectral', hue_norm=(0.1,.9), legend=False)\n",
    "    # ax[1].set_title('Predicted - '+str(trip_id))\n",
    "\n",
    "    # scatter plot of friction in a lat long 2D space using plt\n",
    "    sc = ax[0].scatter(df['Longitude'], df['Latitude'], c=df['friction'], cmap='viridis', s=5, alpha=0.5, vmin=.5, vmax=.9)\n",
    "    ax[0].set_title('Measured - trip_id:'+str(trip_id))\n",
    "    \n",
    "    # scatter plot of friction in a lat long 2D space using plt\n",
    "    sc = ax[1].scatter(df['Longitude'], df['Latitude'], c=df['friction_pred'], cmap='viridis', s=5, alpha=0.5, vmin=.5, vmax=.9)\n",
    "    ax[0].set_xlabel('Longitude')\n",
    "    ax[0].set_ylabel('Latitude')\n",
    "    ax[1].set_xlabel('Longitude')\n",
    "    ax[1].set_ylabel('Latitude')\n",
    "    ax[1].set_title('Predicted')\n",
    "    ax[0].set_xlim(23.1, 24.10)\n",
    "    ax[0].set_ylim(60.30, 60.45)\n",
    "\n",
    "    ax[1].set_xlim(23.1, 24.10)\n",
    "    ax[1].set_ylim(60.30, 60.45)\n",
    "    if virgin:\n",
    "        virgin = False\n",
    "\n",
    "\n",
    "        # add colorbar to the scatter plot\n",
    "        fig.colorbar(sc, ax=ax[0], label='Friction')\n",
    "        fig.colorbar(sc, ax=ax[1], label='Friction')\n",
    "        fig.tight_layout()\n",
    "    # # Add a colorbar to the plot with the information from the scatter plot\n",
    "    # norm = plt.Normalize(.1, .9)\n",
    "    # sm = plt.cm.ScalarMappable(cmap=\"Spectral\", norm=norm)\n",
    "    # sm.set_array([])\n",
    "    # # Add the colorbar to the figure\n",
    "    # fig.colorbar(sm, ax=ax[0], label='Hue Value')\n",
    "    # fig.colorbar(sm, ax=ax[1], label='Hue Value')\n",
    "\n",
    "    # # line plot of friction over time\n",
    "    # sns.lineplot(x='AbsoluteTime', y='friction', data=df, ax=ax[2], label='Measured')\n",
    "    # ax[2].set_title('Measured vs. Predicted - '+str(trip_id) + ' - ' + str(trip[1][0,0]))\n",
    "    # # line plot of friction over time\n",
    "    # sns.lineplot(x='AbsoluteTime', y='friction_pred', data=df, ax=ax[2], label='Predicted')\n",
    "\n",
    "    # plot friction over time using plt\n",
    "    ax[2].plot(df['AbsoluteTime']/60, df['friction'], label='Measured')\n",
    "    ax[2].plot(df['AbsoluteTime']/60, df['friction_pred'], label='Predicted')\n",
    "    # ax[2].set_title('Measured vs. Predicted - '+str(trip_id) + ' - ' + str(trip[1][0,0]))\n",
    "    ax[2].set_title('Friction (Measured vs. Predicted)')\n",
    "    ax[2].legend()\n",
    "    ax[2].set_xlabel('Time (min)')\n",
    "    ax[2].set_ylabel('Friction')\n",
    "\n",
    "\n",
    "\n",
    "    # make ylim .2 to 08\n",
    "    ax[2].set_ylim(0, 1)\n",
    "\n",
    "    plt.tight_layout()\n",
    "    # plt.show()\n",
    "    # if key n is pressed, go to next trip\n",
    "    plt.pause(0.01)\n",
    "    if plt.waitforbuttonpress():            \n",
    "        continue\n"
   ]
  },
  {
   "cell_type": "code",
   "execution_count": 16,
   "metadata": {},
   "outputs": [
    {
     "data": {
      "text/plain": [
       "1001"
      ]
     },
     "execution_count": 16,
     "metadata": {},
     "output_type": "execute_result"
    }
   ],
   "source": []
  },
  {
   "cell_type": "code",
   "execution_count": 14,
   "metadata": {},
   "outputs": [
    {
     "name": "stdout",
     "output_type": "stream",
     "text": [
      "0.03830959162302333\n"
     ]
    }
   ],
   "source": [
    "# calculate the MAE of friction and friction_pred for each trip in trips\n",
    "errors = []\n",
    "for trip in trips[1:]:\n",
    "    trip_id = np.array(trip[0]).squeeze()\n",
    "    trip_X = np.array(trip[1]).squeeze()\n",
    "    trip_y = np.array(trip[2]).squeeze()\n",
    "    trip_y_pred = np.array(trip[3]).squeeze()\n",
    "    # print(trip_y.shape, trip_y_pred.shape)\n",
    "    errors.append(np.mean(np.abs(trip_y - trip_y_pred)))\n",
    "\n",
    "print(np.mean(errors))"
   ]
  },
  {
   "cell_type": "code",
   "execution_count": 10,
   "metadata": {},
   "outputs": [
    {
     "name": "stdout",
     "output_type": "stream",
     "text": [
      "101646\n",
      "55\n"
     ]
    }
   ],
   "source": [
    "# print number of records in all the trips\n",
    "print(np.sum([len(trip[1]) for trip in trips]))\n",
    "\n",
    "print(len(trips))\n"
   ]
  }
 ],
 "metadata": {
  "kernelspec": {
   "display_name": "Python 3",
   "language": "python",
   "name": "python3"
  },
  "language_info": {
   "codemirror_mode": {
    "name": "ipython",
    "version": 3
   },
   "file_extension": ".py",
   "mimetype": "text/x-python",
   "name": "python",
   "nbconvert_exporter": "python",
   "pygments_lexer": "ipython3",
   "version": "3.12.2"
  }
 },
 "nbformat": 4,
 "nbformat_minor": 2
}
