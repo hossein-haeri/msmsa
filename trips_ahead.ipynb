{
 "cells": [
  {
   "cell_type": "code",
   "execution_count": 12,
   "metadata": {},
   "outputs": [],
   "source": [
    "import numpy as np\n",
    "import matplotlib.pyplot as plt\n",
    "import pandas as pd\n",
    "import seaborn as sns\n"
   ]
  },
  {
   "cell_type": "code",
   "execution_count": 15,
   "metadata": {},
   "outputs": [
    {
     "name": "stdout",
     "output_type": "stream",
     "text": [
      "28\n"
     ]
    }
   ],
   "source": [
    "# unpickle trips.pkl\n",
    "trips = pd.read_pickle('trips_downtown_full.pkl')\n",
    "print(len(trips))"
   ]
  },
  {
   "cell_type": "code",
   "execution_count": 16,
   "metadata": {},
   "outputs": [
    {
     "data": {
      "text/plain": [
       "[0.0, 0.35405627435077325, 1.0]"
      ]
     },
     "execution_count": 16,
     "metadata": {},
     "output_type": "execute_result"
    }
   ],
   "source": [
    "import math\n",
    "\n",
    "def haversine_distance(lat1, lon1, lat2, lon2):\n",
    "    \"\"\"\n",
    "    Calculate the great circle distance in kilometers between two points \n",
    "    on the earth specified in decimal degrees using the Haversine formula.\n",
    "    \"\"\"\n",
    "    # Convert decimal degrees to radians \n",
    "    lon1, lat1, lon2, lat2 = map(math.radians, [lon1, lat1, lon2, lat2])\n",
    "\n",
    "    # Haversine formula \n",
    "    dlon = lon2 - lon1 \n",
    "    dlat = lat2 - lat1 \n",
    "    a = math.sin(dlat/2)**2 + math.cos(lat1) * math.cos(lat2) * math.sin(dlon/2)**2\n",
    "    c = 2 * math.asin(math.sqrt(a)) \n",
    "    r = 6371 # Radius of earth in kilometers. Use 3956 for miles\n",
    "    return c * r\n",
    "\n",
    "def calculate_s_values(positions):\n",
    "    \"\"\"\n",
    "    Calculate normalized cumulative distances (s values) for a list of positions.\n",
    "    Each position is a tuple (latitude, longitude).\n",
    "    \"\"\"\n",
    "    distances = []\n",
    "    cumulative_distances = [0]  # Start with 0 for the first position\n",
    "\n",
    "    # Calculate distances between consecutive points\n",
    "    for i in range(1, len(positions)):\n",
    "        lat1, lon1 = positions[i - 1]\n",
    "        lat2, lon2 = positions[i]\n",
    "        dist = haversine_distance(lat1, lon1, lat2, lon2)\n",
    "        distances.append(dist)\n",
    "        cumulative_distances.append(cumulative_distances[-1] + dist)\n",
    "\n",
    "    # Normalize cumulative distances\n",
    "    total_distance = cumulative_distances[-1]\n",
    "    s_values = [cd / total_distance for cd in cumulative_distances]\n",
    "\n",
    "    return s_values\n",
    "\n",
    "# Example positions (latitude, longitude)\n",
    "positions = [\n",
    "    (34.052235, -118.243683),  # Los Angeles\n",
    "    (36.169941, -115.139832),  # Las Vegas\n",
    "    (37.774929, -122.419416)   # San Francisco\n",
    "]\n",
    "\n",
    "# Calculate s values\n",
    "s_values = calculate_s_values(positions)\n",
    "s_values"
   ]
  },
  {
   "cell_type": "code",
   "execution_count": 17,
   "metadata": {},
   "outputs": [
    {
     "name": "stdout",
     "output_type": "stream",
     "text": [
      "(2375, 8)\n",
      "(151, 8)\n",
      "(332, 8)\n",
      "(6664, 8)\n",
      "(7021, 8)\n",
      "(4, 8)\n",
      "(7, 8)\n"
     ]
    },
    {
     "ename": "ZeroDivisionError",
     "evalue": "float division by zero",
     "output_type": "error",
     "traceback": [
      "\u001b[0;31m---------------------------------------------------------------------------\u001b[0m",
      "\u001b[0;31mZeroDivisionError\u001b[0m                         Traceback (most recent call last)",
      "Cell \u001b[0;32mIn[17], line 20\u001b[0m\n\u001b[1;32m     18\u001b[0m trip_y_pred \u001b[38;5;241m=\u001b[39m trip[\u001b[38;5;241m3\u001b[39m]\n\u001b[1;32m     19\u001b[0m trip_mem_size \u001b[38;5;241m=\u001b[39m trip[\u001b[38;5;241m4\u001b[39m]\n\u001b[0;32m---> 20\u001b[0m trip_s \u001b[38;5;241m=\u001b[39m \u001b[43mcalculate_s_values\u001b[49m\u001b[43m(\u001b[49m\u001b[43mtrip_X\u001b[49m\u001b[43m[\u001b[49m\u001b[43m:\u001b[49m\u001b[43m,\u001b[49m\u001b[38;5;241;43m1\u001b[39;49m\u001b[43m:\u001b[49m\u001b[38;5;241;43m3\u001b[39;49m\u001b[43m]\u001b[49m\u001b[43m)\u001b[49m\n\u001b[1;32m     22\u001b[0m \u001b[38;5;66;03m# convert trip_X to dataframe\u001b[39;00m\n\u001b[1;32m     23\u001b[0m \u001b[38;5;28mprint\u001b[39m(trip_X\u001b[38;5;241m.\u001b[39mshape)\n",
      "Cell \u001b[0;32mIn[16], line 37\u001b[0m, in \u001b[0;36mcalculate_s_values\u001b[0;34m(positions)\u001b[0m\n\u001b[1;32m     35\u001b[0m \u001b[38;5;66;03m# Normalize cumulative distances\u001b[39;00m\n\u001b[1;32m     36\u001b[0m total_distance \u001b[38;5;241m=\u001b[39m cumulative_distances[\u001b[38;5;241m-\u001b[39m\u001b[38;5;241m1\u001b[39m]\n\u001b[0;32m---> 37\u001b[0m s_values \u001b[38;5;241m=\u001b[39m [\u001b[43mcd\u001b[49m\u001b[43m \u001b[49m\u001b[38;5;241;43m/\u001b[39;49m\u001b[43m \u001b[49m\u001b[43mtotal_distance\u001b[49m \u001b[38;5;28;01mfor\u001b[39;00m cd \u001b[38;5;129;01min\u001b[39;00m cumulative_distances]\n\u001b[1;32m     39\u001b[0m \u001b[38;5;28;01mreturn\u001b[39;00m s_values\n",
      "\u001b[0;31mZeroDivisionError\u001b[0m: float division by zero"
     ]
    }
   ],
   "source": [
    "%matplotlib qt\n",
    "# trip = trips[3000]\n",
    "plt.close('all')\n",
    "virgin = True\n",
    "fig, ax = plt.subplots(1, 3, figsize=(15, 5))\n",
    "for trip in trips[1:]:\n",
    "    \n",
    "    # calculate the station s value where s=0 is the start of the trip and s=1 is the end of the trip\n",
    "\n",
    "\n",
    "\n",
    "        \n",
    "    # if len(trip[1]) < 500:\n",
    "    #     continue\n",
    "    trip_id = trip[0]\n",
    "    trip_X = trip[1]\n",
    "    trip_y = trip[2]\n",
    "    trip_y_pred = trip[3]\n",
    "    trip_mem_size = trip[4]\n",
    "    trip_s = calculate_s_values(trip_X[:,1:3])\n",
    "\n",
    "    # convert trip_X to dataframe\n",
    "    print(trip_X.shape)\n",
    "    df = pd.DataFrame(trip_X, columns=['AbsoluteTime','Latitude', 'Longitude','Tsurf', 'Ta','Hours','Speed','Months'])\n",
    "\n",
    "\n",
    "\n",
    "   # convert trip_X to dataframe\n",
    "    # df = pd.DataFrame(trip_X, columns=['Latitude', 'Longitude'])\n",
    "    df['AbsoluteTime'] = df['AbsoluteTime'] - df['AbsoluteTime'].min()\n",
    "    df['friction'] = trip_y\n",
    "    df['friction_pred'] = trip_y_pred\n",
    "    df['s'] = trip_s\n",
    "\n",
    "    \n",
    "\n",
    "    # create subplots\n",
    "\n",
    "    ax[0].cla()\n",
    "    ax[1].cla()\n",
    "    ax[2].cla()\n",
    "    # # scatter plot of friction in a lat long 2D space\n",
    "    # sns.scatterplot(x='Longitude', y='Latitude', data=df, hue='friction', ax=ax[0], s=10, palette='Spectral', hue_norm=(0.1,.9),legend=False)\n",
    "    # ax[0].set_title('Measured - '+str(trip_id))\n",
    "\n",
    "    # # scatter plot of friction in a lat long 2D space\n",
    "    # sns.scatterplot(x='Longitude', y='Latitude', data=df, hue='friction_pred', ax=ax[1], s=10, palette='Spectral', hue_norm=(0.1,.9), legend=False)\n",
    "    # ax[1].set_title('Predicted - '+str(trip_id))\n",
    "\n",
    "    # scatter plot of friction in a lat long 2D space using plt\n",
    "    sc = ax[0].scatter(df['Longitude'], df['Latitude'], c=df['friction'], cmap='viridis', s=3, alpha=0.7, vmin=.6, vmax=.8)\n",
    "    ax[0].set_title('Measured - trip_id:'+str(trip_id))\n",
    "    \n",
    "    # scatter plot of friction in a lat long 2D space using plt\n",
    "    sc = ax[1].scatter(df['Longitude'], df['Latitude'], c=df['friction_pred'], cmap='viridis', s=3, alpha=0.7, vmin=.6, vmax=.8)\n",
    "    ax[0].set_xlabel('Longitude')\n",
    "    ax[0].set_ylabel('Latitude')\n",
    "    ax[1].set_xlabel('Longitude')\n",
    "    ax[1].set_ylabel('Latitude')\n",
    "    ax[1].set_title('Predicted')\n",
    "    # ax[0].set_xlim(23.1, 24.10)\n",
    "    # ax[0].set_ylim(60.30, 60.45)\n",
    "\n",
    "    # ax[1].set_xlim(23.1, 24.10)\n",
    "    # ax[1].set_ylim(60.30, 60.45)\n",
    "    if virgin:\n",
    "        virgin = False\n",
    "\n",
    "\n",
    "        # add colorbar to the scatter plot\n",
    "        fig.colorbar(sc, ax=ax[0], label='Friction')\n",
    "        fig.colorbar(sc, ax=ax[1], label='Friction')\n",
    "        fig.tight_layout()\n",
    "    # # Add a colorbar to the plot with the information from the scatter plot\n",
    "    # norm = plt.Normalize(.1, .9)\n",
    "    # sm = plt.cm.ScalarMappable(cmap=\"Spectral\", norm=norm)\n",
    "    # sm.set_array([])\n",
    "    # # Add the colorbar to the figure\n",
    "    # fig.colorbar(sm, ax=ax[0], label='Hue Value')\n",
    "    # fig.colorbar(sm, ax=ax[1], label='Hue Value')\n",
    "\n",
    "    # # line plot of friction over time\n",
    "    # sns.lineplot(x='AbsoluteTime', y='friction', data=df, ax=ax[2], label='Measured')\n",
    "    # ax[2].set_title('Measured vs. Predicted - '+str(trip_id) + ' - ' + str(trip[1][0,0]))\n",
    "    # # line plot of friction over time\n",
    "    # sns.lineplot(x='AbsoluteTime', y='friction_pred', data=df, ax=ax[2], label='Predicted')\n",
    "\n",
    "    # plot friction over time using plt\n",
    "    ax[2].plot(df['s'], df['friction'], label='Measured')\n",
    "    ax[2].plot(df['s'], df['friction_pred'], label='Predicted')\n",
    "    # ax[2].set_title('Measured vs. Predicted - '+str(trip_id) + ' - ' + str(trip[1][0,0]))\n",
    "    ax[2].set_title('Friction (Measured vs. Predicted)')\n",
    "    ax[2].legend()\n",
    "    ax[2].set_xlabel('Station (s)')\n",
    "    ax[2].set_ylabel('Friction')\n",
    "\n",
    "\n",
    "\n",
    "    # make ylim .2 to 08\n",
    "    ax[2].set_ylim(0, 1)\n",
    "\n",
    "    plt.tight_layout()\n",
    "      \n",
    "    \n",
    "    plt.pause(0.01)\n",
    "\n",
    "    # save the png figure in \\figures directory\n",
    "    plt.savefig('figures/fig_'+str(trip_id)+'.png')\n",
    "\n",
    "    # if key n is pressed, go to next trip\n",
    "    if plt.waitforbuttonpress():            \n",
    "        continue\n"
   ]
  },
  {
   "cell_type": "code",
   "execution_count": 16,
   "metadata": {},
   "outputs": [
    {
     "data": {
      "text/plain": [
       "1001"
      ]
     },
     "execution_count": 16,
     "metadata": {},
     "output_type": "execute_result"
    }
   ],
   "source": []
  },
  {
   "cell_type": "code",
   "execution_count": 14,
   "metadata": {},
   "outputs": [
    {
     "name": "stdout",
     "output_type": "stream",
     "text": [
      "0.03830959162302333\n"
     ]
    }
   ],
   "source": [
    "# calculate the MAE of friction and friction_pred for each trip in trips\n",
    "errors = []\n",
    "for trip in trips[1:]:\n",
    "    trip_id = np.array(trip[0]).squeeze()\n",
    "    trip_X = np.array(trip[1]).squeeze()\n",
    "    trip_y = np.array(trip[2]).squeeze()\n",
    "    trip_y_pred = np.array(trip[3]).squeeze()\n",
    "    # print(trip_y.shape, trip_y_pred.shape)\n",
    "    errors.append(np.mean(np.abs(trip_y - trip_y_pred)))\n",
    "\n",
    "print(np.mean(errors))"
   ]
  },
  {
   "cell_type": "code",
   "execution_count": 10,
   "metadata": {},
   "outputs": [
    {
     "name": "stdout",
     "output_type": "stream",
     "text": [
      "101646\n",
      "55\n"
     ]
    }
   ],
   "source": [
    "# print number of records in all the trips\n",
    "print(np.sum([len(trip[1]) for trip in trips]))\n",
    "\n",
    "print(len(trips))\n"
   ]
  }
 ],
 "metadata": {
  "kernelspec": {
   "display_name": "Python 3",
   "language": "python",
   "name": "python3"
  },
  "language_info": {
   "codemirror_mode": {
    "name": "ipython",
    "version": 3
   },
   "file_extension": ".py",
   "mimetype": "text/x-python",
   "name": "python",
   "nbconvert_exporter": "python",
   "pygments_lexer": "ipython3",
   "version": "3.12.1"
  }
 },
 "nbformat": 4,
 "nbformat_minor": 2
}
