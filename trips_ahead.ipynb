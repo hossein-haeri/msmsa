{
 "cells": [
  {
   "cell_type": "code",
   "execution_count": 1,
   "metadata": {},
   "outputs": [],
   "source": [
    "import numpy as np\n",
    "import matplotlib.pyplot as plt\n",
    "import pandas as pd\n",
    "import seaborn as sns\n"
   ]
  },
  {
   "cell_type": "code",
   "execution_count": 2,
   "metadata": {},
   "outputs": [
    {
     "name": "stdout",
     "output_type": "stream",
     "text": [
      "3387\n"
     ]
    }
   ],
   "source": [
    "# unpickle trips.pkl\n",
    "trips = pd.read_pickle('trips_road_piece_msmsa.pkl')\n",
    "print(len(trips))"
   ]
  },
  {
   "cell_type": "code",
   "execution_count": 32,
   "metadata": {},
   "outputs": [
    {
     "ename": "KeyboardInterrupt",
     "evalue": "",
     "output_type": "error",
     "traceback": [
      "\u001b[0;31m---------------------------------------------------------------------------\u001b[0m",
      "\u001b[0;31mKeyboardInterrupt\u001b[0m                         Traceback (most recent call last)",
      "Cell \u001b[0;32mIn[32], line 83\u001b[0m\n\u001b[1;32m     80\u001b[0m \u001b[38;5;66;03m# plt.show()\u001b[39;00m\n\u001b[1;32m     81\u001b[0m \u001b[38;5;66;03m# if key n is pressed, go to next trip\u001b[39;00m\n\u001b[1;32m     82\u001b[0m plt\u001b[38;5;241m.\u001b[39mpause(\u001b[38;5;241m0.01\u001b[39m)\n\u001b[0;32m---> 83\u001b[0m \u001b[38;5;28;01mif\u001b[39;00m \u001b[43mplt\u001b[49m\u001b[38;5;241;43m.\u001b[39;49m\u001b[43mwaitforbuttonpress\u001b[49m\u001b[43m(\u001b[49m\u001b[43m)\u001b[49m:            \n\u001b[1;32m     84\u001b[0m     \u001b[38;5;28;01mcontinue\u001b[39;00m\n",
      "File \u001b[0;32m~/.pyenv/versions/3.12.1/lib/python3.12/site-packages/matplotlib/pyplot.py:2590\u001b[0m, in \u001b[0;36mwaitforbuttonpress\u001b[0;34m(timeout)\u001b[0m\n\u001b[1;32m   2588\u001b[0m \u001b[38;5;129m@_copy_docstring_and_deprecators\u001b[39m(Figure\u001b[38;5;241m.\u001b[39mwaitforbuttonpress)\n\u001b[1;32m   2589\u001b[0m \u001b[38;5;28;01mdef\u001b[39;00m \u001b[38;5;21mwaitforbuttonpress\u001b[39m(timeout: \u001b[38;5;28mfloat\u001b[39m \u001b[38;5;241m=\u001b[39m \u001b[38;5;241m-\u001b[39m\u001b[38;5;241m1\u001b[39m) \u001b[38;5;241m-\u001b[39m\u001b[38;5;241m>\u001b[39m \u001b[38;5;28;01mNone\u001b[39;00m \u001b[38;5;241m|\u001b[39m \u001b[38;5;28mbool\u001b[39m:\n\u001b[0;32m-> 2590\u001b[0m     \u001b[38;5;28;01mreturn\u001b[39;00m \u001b[43mgcf\u001b[49m\u001b[43m(\u001b[49m\u001b[43m)\u001b[49m\u001b[38;5;241;43m.\u001b[39;49m\u001b[43mwaitforbuttonpress\u001b[49m\u001b[43m(\u001b[49m\u001b[43mtimeout\u001b[49m\u001b[38;5;241;43m=\u001b[39;49m\u001b[43mtimeout\u001b[49m\u001b[43m)\u001b[49m\n",
      "File \u001b[0;32m~/.pyenv/versions/3.12.1/lib/python3.12/site-packages/matplotlib/figure.py:3503\u001b[0m, in \u001b[0;36mFigure.waitforbuttonpress\u001b[0;34m(self, timeout)\u001b[0m\n\u001b[1;32m   3500\u001b[0m     event \u001b[38;5;241m=\u001b[39m ev\n\u001b[1;32m   3501\u001b[0m     \u001b[38;5;28mself\u001b[39m\u001b[38;5;241m.\u001b[39mcanvas\u001b[38;5;241m.\u001b[39mstop_event_loop()\n\u001b[0;32m-> 3503\u001b[0m \u001b[43m_blocking_input\u001b[49m\u001b[38;5;241;43m.\u001b[39;49m\u001b[43mblocking_input_loop\u001b[49m\u001b[43m(\u001b[49m\n\u001b[1;32m   3504\u001b[0m \u001b[43m    \u001b[49m\u001b[38;5;28;43mself\u001b[39;49m\u001b[43m,\u001b[49m\u001b[43m \u001b[49m\u001b[43m[\u001b[49m\u001b[38;5;124;43m\"\u001b[39;49m\u001b[38;5;124;43mbutton_press_event\u001b[39;49m\u001b[38;5;124;43m\"\u001b[39;49m\u001b[43m,\u001b[49m\u001b[43m \u001b[49m\u001b[38;5;124;43m\"\u001b[39;49m\u001b[38;5;124;43mkey_press_event\u001b[39;49m\u001b[38;5;124;43m\"\u001b[39;49m\u001b[43m]\u001b[49m\u001b[43m,\u001b[49m\u001b[43m \u001b[49m\u001b[43mtimeout\u001b[49m\u001b[43m,\u001b[49m\u001b[43m \u001b[49m\u001b[43mhandler\u001b[49m\u001b[43m)\u001b[49m\n\u001b[1;32m   3506\u001b[0m \u001b[38;5;28;01mreturn\u001b[39;00m \u001b[38;5;28;01mNone\u001b[39;00m \u001b[38;5;28;01mif\u001b[39;00m event \u001b[38;5;129;01mis\u001b[39;00m \u001b[38;5;28;01mNone\u001b[39;00m \u001b[38;5;28;01melse\u001b[39;00m event\u001b[38;5;241m.\u001b[39mname \u001b[38;5;241m==\u001b[39m \u001b[38;5;124m\"\u001b[39m\u001b[38;5;124mkey_press_event\u001b[39m\u001b[38;5;124m\"\u001b[39m\n",
      "File \u001b[0;32m~/.pyenv/versions/3.12.1/lib/python3.12/site-packages/matplotlib/_blocking_input.py:26\u001b[0m, in \u001b[0;36mblocking_input_loop\u001b[0;34m(figure, event_names, timeout, handler)\u001b[0m\n\u001b[1;32m     24\u001b[0m cids \u001b[38;5;241m=\u001b[39m [figure\u001b[38;5;241m.\u001b[39mcanvas\u001b[38;5;241m.\u001b[39mmpl_connect(name, handler) \u001b[38;5;28;01mfor\u001b[39;00m name \u001b[38;5;129;01min\u001b[39;00m event_names]\n\u001b[1;32m     25\u001b[0m \u001b[38;5;28;01mtry\u001b[39;00m:\n\u001b[0;32m---> 26\u001b[0m     \u001b[43mfigure\u001b[49m\u001b[38;5;241;43m.\u001b[39;49m\u001b[43mcanvas\u001b[49m\u001b[38;5;241;43m.\u001b[39;49m\u001b[43mstart_event_loop\u001b[49m\u001b[43m(\u001b[49m\u001b[43mtimeout\u001b[49m\u001b[43m)\u001b[49m  \u001b[38;5;66;03m# Start event loop.\u001b[39;00m\n\u001b[1;32m     27\u001b[0m \u001b[38;5;28;01mfinally\u001b[39;00m:  \u001b[38;5;66;03m# Run even on exception like ctrl-c.\u001b[39;00m\n\u001b[1;32m     28\u001b[0m     \u001b[38;5;66;03m# Disconnect the callbacks.\u001b[39;00m\n\u001b[1;32m     29\u001b[0m     \u001b[38;5;28;01mfor\u001b[39;00m cid \u001b[38;5;129;01min\u001b[39;00m cids:\n",
      "File \u001b[0;32m~/.pyenv/versions/3.12.1/lib/python3.12/site-packages/matplotlib/backends/backend_qt.py:412\u001b[0m, in \u001b[0;36mFigureCanvasQT.start_event_loop\u001b[0;34m(self, timeout)\u001b[0m\n\u001b[1;32m    409\u001b[0m \u001b[38;5;28;01mif\u001b[39;00m timeout \u001b[38;5;241m>\u001b[39m \u001b[38;5;241m0\u001b[39m:\n\u001b[1;32m    410\u001b[0m     _ \u001b[38;5;241m=\u001b[39m QtCore\u001b[38;5;241m.\u001b[39mQTimer\u001b[38;5;241m.\u001b[39msingleShot(\u001b[38;5;28mint\u001b[39m(timeout \u001b[38;5;241m*\u001b[39m \u001b[38;5;241m1000\u001b[39m), event_loop\u001b[38;5;241m.\u001b[39mquit)\n\u001b[0;32m--> 412\u001b[0m \u001b[43m\u001b[49m\u001b[38;5;28;43;01mwith\u001b[39;49;00m\u001b[43m \u001b[49m\u001b[43m_maybe_allow_interrupt\u001b[49m\u001b[43m(\u001b[49m\u001b[43mevent_loop\u001b[49m\u001b[43m)\u001b[49m\u001b[43m:\u001b[49m\n\u001b[1;32m    413\u001b[0m \u001b[43m    \u001b[49m\u001b[43mqt_compat\u001b[49m\u001b[38;5;241;43m.\u001b[39;49m\u001b[43m_exec\u001b[49m\u001b[43m(\u001b[49m\u001b[43mevent_loop\u001b[49m\u001b[43m)\u001b[49m\n",
      "File \u001b[0;32m~/.pyenv/versions/3.12.1/lib/python3.12/contextlib.py:144\u001b[0m, in \u001b[0;36m_GeneratorContextManager.__exit__\u001b[0;34m(self, typ, value, traceback)\u001b[0m\n\u001b[1;32m    142\u001b[0m \u001b[38;5;28;01mif\u001b[39;00m typ \u001b[38;5;129;01mis\u001b[39;00m \u001b[38;5;28;01mNone\u001b[39;00m:\n\u001b[1;32m    143\u001b[0m     \u001b[38;5;28;01mtry\u001b[39;00m:\n\u001b[0;32m--> 144\u001b[0m         \u001b[38;5;28;43mnext\u001b[39;49m\u001b[43m(\u001b[49m\u001b[38;5;28;43mself\u001b[39;49m\u001b[38;5;241;43m.\u001b[39;49m\u001b[43mgen\u001b[49m\u001b[43m)\u001b[49m\n\u001b[1;32m    145\u001b[0m     \u001b[38;5;28;01mexcept\u001b[39;00m \u001b[38;5;167;01mStopIteration\u001b[39;00m:\n\u001b[1;32m    146\u001b[0m         \u001b[38;5;28;01mreturn\u001b[39;00m \u001b[38;5;28;01mFalse\u001b[39;00m\n",
      "File \u001b[0;32m~/.pyenv/versions/3.12.1/lib/python3.12/site-packages/matplotlib/backends/qt_compat.py:230\u001b[0m, in \u001b[0;36m_maybe_allow_interrupt\u001b[0;34m(qapp)\u001b[0m\n\u001b[1;32m    228\u001b[0m signal\u001b[38;5;241m.\u001b[39msignal(signal\u001b[38;5;241m.\u001b[39mSIGINT, old_sigint_handler)\n\u001b[1;32m    229\u001b[0m \u001b[38;5;28;01mif\u001b[39;00m handler_args \u001b[38;5;129;01mis\u001b[39;00m \u001b[38;5;129;01mnot\u001b[39;00m \u001b[38;5;28;01mNone\u001b[39;00m:\n\u001b[0;32m--> 230\u001b[0m     \u001b[43mold_sigint_handler\u001b[49m\u001b[43m(\u001b[49m\u001b[38;5;241;43m*\u001b[39;49m\u001b[43mhandler_args\u001b[49m\u001b[43m)\u001b[49m\n",
      "\u001b[0;31mKeyboardInterrupt\u001b[0m: "
     ]
    }
   ],
   "source": [
    "%matplotlib qt\n",
    "# trip = trips[3000]\n",
    "\n",
    "for trip in trips[3000:]:\n",
    "    if len(trip[1]) < 500:\n",
    "        continue\n",
    "    trip_id = trip[0]\n",
    "    trip_X = trip[1]\n",
    "    trip_y = trip[2]\n",
    "    trip_y_pred = trip[3]\n",
    "\n",
    "    # convert trip_X to dataframe\n",
    "    df = pd.DataFrame(trip_X, columns=['AbsoluteTime','Latitude', 'Longitude','Tsurf', 'Ta','Hours','Speed'])\n",
    "\n",
    "   # convert trip_X to dataframe\n",
    "    # df = pd.DataFrame(trip_X, columns=['Latitude', 'Longitude'])\n",
    "    df['AbsoluteTime'] = df['AbsoluteTime'] - df['AbsoluteTime'].min()\n",
    "    df['friction'] = trip_y\n",
    "    df['friction_pred'] = trip_y_pred\n",
    "\n",
    "    plt.close('all')\n",
    "\n",
    "    # create subplots\n",
    "    fig, ax = plt.subplots(1, 3, figsize=(15, 5))\n",
    "    \n",
    "    # # scatter plot of friction in a lat long 2D space\n",
    "    # sns.scatterplot(x='Longitude', y='Latitude', data=df, hue='friction', ax=ax[0], s=10, palette='Spectral', hue_norm=(0.1,.9),legend=False)\n",
    "    # ax[0].set_title('Measured - '+str(trip_id))\n",
    "\n",
    "    # # scatter plot of friction in a lat long 2D space\n",
    "    # sns.scatterplot(x='Longitude', y='Latitude', data=df, hue='friction_pred', ax=ax[1], s=10, palette='Spectral', hue_norm=(0.1,.9), legend=False)\n",
    "    # ax[1].set_title('Predicted - '+str(trip_id))\n",
    "\n",
    "    # scatter plot of friction in a lat long 2D space using plt\n",
    "    sc = ax[0].scatter(df['Longitude'], df['Latitude'], c=df['friction'], cmap='viridis', s=5, alpha=0.5, vmin=.1, vmax=.9)\n",
    "    ax[0].set_title('Measured - trip_id:'+str(trip_id))\n",
    "    # scatter plot of friction in a lat long 2D space using plt\n",
    "    sc = ax[1].scatter(df['Longitude'], df['Latitude'], c=df['friction_pred'], cmap='viridis', s=5, alpha=0.5, vmin=.1, vmax=.9)\n",
    "    ax[1].set_title('Predicted')\n",
    "\n",
    "    ax[0].set_xlim(23.1, 24.10)\n",
    "    ax[0].set_ylim(60.30, 60.45)\n",
    "\n",
    "    ax[1].set_xlim(23.1, 24.10)\n",
    "    ax[1].set_ylim(60.30, 60.45)\n",
    "\n",
    "    # add colorbar to the scatter plot\n",
    "    fig.colorbar(sc, ax=ax[0], label='Friction')\n",
    "    fig.colorbar(sc, ax=ax[1], label='Friction')\n",
    "\n",
    "    \n",
    "    # # Add a colorbar to the plot with the information from the scatter plot\n",
    "    # norm = plt.Normalize(.1, .9)\n",
    "    # sm = plt.cm.ScalarMappable(cmap=\"Spectral\", norm=norm)\n",
    "    # sm.set_array([])\n",
    "    # # Add the colorbar to the figure\n",
    "    # fig.colorbar(sm, ax=ax[0], label='Hue Value')\n",
    "    # fig.colorbar(sm, ax=ax[1], label='Hue Value')\n",
    "\n",
    "    # # line plot of friction over time\n",
    "    # sns.lineplot(x='AbsoluteTime', y='friction', data=df, ax=ax[2], label='Measured')\n",
    "    # ax[2].set_title('Measured vs. Predicted - '+str(trip_id) + ' - ' + str(trip[1][0,0]))\n",
    "    # # line plot of friction over time\n",
    "    # sns.lineplot(x='AbsoluteTime', y='friction_pred', data=df, ax=ax[2], label='Predicted')\n",
    "\n",
    "    # plot friction over time using plt\n",
    "    ax[2].plot(df['AbsoluteTime']/60, df['friction'], label='Measured')\n",
    "    ax[2].plot(df['AbsoluteTime']/60, df['friction_pred'], label='Predicted')\n",
    "    ax[2].set_title('Measured vs. Predicted - '+str(trip_id) + ' - ' + str(trip[1][0,0]))\n",
    "    ax[2].legend()\n",
    "    ax[2].set_xlabel('Time (min)')\n",
    "    ax[2].set_ylabel('Friction')\n",
    "\n",
    "\n",
    "\n",
    "    # make ylim .2 to 08\n",
    "    ax[2].set_ylim(0, 1)\n",
    "\n",
    "    fig.tight_layout()\n",
    "    # plt.show()\n",
    "    # if key n is pressed, go to next trip\n",
    "    plt.pause(0.01)\n",
    "    if plt.waitforbuttonpress():            \n",
    "        continue\n"
   ]
  },
  {
   "cell_type": "code",
   "execution_count": 12,
   "metadata": {},
   "outputs": [
    {
     "data": {
      "text/plain": [
       "[10139,\n",
       " array([[ 3.0528823e+07,  6.0382325e+01,  2.3200347e+01, ...,\n",
       "         -1.0800000e+01,  8.0000000e+00,  7.8300000e+01],\n",
       "        [ 3.0528824e+07,  6.0382231e+01,  2.3201517e+01, ...,\n",
       "         -1.0800000e+01,  8.0000000e+00,  7.8200000e+01],\n",
       "        [ 3.0528825e+07,  6.0382194e+01,  2.3201908e+01, ...,\n",
       "         -1.0800000e+01,  8.0000000e+00,  7.8700000e+01],\n",
       "        ...,\n",
       "        [ 3.0530838e+07,  6.0312779e+01,  2.3998896e+01, ...,\n",
       "         -1.0600000e+01,  8.0000000e+00,  9.9900000e+01],\n",
       "        [ 3.0530839e+07,  6.0312756e+01,  2.3999394e+01, ...,\n",
       "         -1.0500000e+01,  8.0000000e+00,  9.9100000e+01],\n",
       "        [ 3.0530840e+07,  6.0312730e+01,  2.3999888e+01, ...,\n",
       "         -1.0500000e+01,  8.0000000e+00,  9.8400000e+01]]),\n",
       " array([[0.71],\n",
       "        [0.71],\n",
       "        [0.71],\n",
       "        ...,\n",
       "        [0.71],\n",
       "        [0.71],\n",
       "        [0.71]]),\n",
       " array([[0.73],\n",
       "        [0.73],\n",
       "        [0.73],\n",
       "        ...,\n",
       "        [0.78],\n",
       "        [0.79],\n",
       "        [0.79]])]"
      ]
     },
     "execution_count": 12,
     "metadata": {},
     "output_type": "execute_result"
    }
   ],
   "source": []
  },
  {
   "cell_type": "code",
   "execution_count": 5,
   "metadata": {},
   "outputs": [
    {
     "name": "stdout",
     "output_type": "stream",
     "text": [
      "0.055067994635621134\n"
     ]
    }
   ],
   "source": [
    "# calculate the MAE of friction and friction_pred for each trip in trips\n",
    "errors = []\n",
    "for trip in trips[1:]:\n",
    "    trip_id = np.array(trip[0]).squeeze()\n",
    "    trip_X = np.array(trip[1]).squeeze()\n",
    "    trip_y = np.array(trip[2]).squeeze()\n",
    "    trip_y_pred = np.array(trip[3]).squeeze()\n",
    "    # print(trip_y.shape, trip_y_pred.shape)\n",
    "    errors.append(np.mean(np.abs(trip_y - trip_y_pred)))\n",
    "\n",
    "print(np.mean(errors))"
   ]
  },
  {
   "cell_type": "code",
   "execution_count": 74,
   "metadata": {},
   "outputs": [
    {
     "name": "stdout",
     "output_type": "stream",
     "text": [
      "3403012\n",
      "4404\n"
     ]
    }
   ],
   "source": [
    "# print number of records in all the trips\n",
    "print(np.sum([len(trip[1]) for trip in trips]))\n",
    "\n",
    "print(len(trips))\n"
   ]
  }
 ],
 "metadata": {
  "kernelspec": {
   "display_name": "Python 3",
   "language": "python",
   "name": "python3"
  },
  "language_info": {
   "codemirror_mode": {
    "name": "ipython",
    "version": 3
   },
   "file_extension": ".py",
   "mimetype": "text/x-python",
   "name": "python",
   "nbconvert_exporter": "python",
   "pygments_lexer": "ipython3",
   "version": "3.12.1"
  }
 },
 "nbformat": 4,
 "nbformat_minor": 2
}
