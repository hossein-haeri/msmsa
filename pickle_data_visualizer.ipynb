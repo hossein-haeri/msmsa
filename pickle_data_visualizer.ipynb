{
 "cells": [
  {
   "cell_type": "code",
   "execution_count": 2,
   "metadata": {},
   "outputs": [],
   "source": [
    "import json\n",
    "import numpy as np\n",
    "import pandas as pd\n",
    "import matplotlib.pyplot as plt\n",
    "import wandb\n",
    "import seaborn as sns\n",
    "%matplotlib qt"
   ]
  },
  {
   "cell_type": "code",
   "execution_count": 2,
   "metadata": {},
   "outputs": [],
   "source": [
    "# df = pd.read_pickle('logs_teconer.pkl')\n",
    "df = pd.read_pickle('logs_msmsa_plus_test.pkl')"
   ]
  },
  {
   "attachments": {},
   "cell_type": "markdown",
   "metadata": {},
   "source": [
    "## Hyper MAE Lineplots"
   ]
  },
  {
   "cell_type": "code",
   "execution_count": 3,
   "metadata": {},
   "outputs": [],
   "source": [
    "\n",
    "# set all Matplotlib fonts to Times New Roman\n",
    "plt.rcParams['font.family'] = 'Times New Roman'\n",
    "\n",
    "# datasets = ['Hyper-A', 'Hyper-I', 'Hyper-G', 'Hyper-LN', 'Hyper-RW', 'Hyper-GU']\n",
    "datasets = ['Hyper-A', 'Hyper-LN', 'Hyper-I', 'Hyper-RW', 'Hyper-G', 'Hyper-GU']\n",
    "\n",
    "methods = ['Naive', 'PH', 'DDM', 'ADWIN', 'KSWIN', 'MSMSA']\n",
    "color_palette = {'Naive':'#A46750', 'PH':'#EDB732', 'DDM':'#DA4C4C', 'ADWIN':'#A0C75C', 'KSWIN':'#E57439', 'MSMSA':'#5387DD'}\n",
    "\n",
    "# load logs.pkl file\n",
    "df = pd.read_pickle('logs.pkl')\n",
    "# df = df[df['dataset'].isin(datasets)]\n",
    "# df = df[df['method'].isin(methods)]\n",
    "\n",
    "\n",
    "fig, axes = plt.subplots(3, 2, figsize=(5, 9))\n",
    "for dataset in datasets:\n",
    "    dataset_name = dataset\n",
    "    i = datasets.index(dataset) // 2\n",
    "    j = datasets.index(dataset) % 2\n",
    "    if i == 0 and j == 0:\n",
    "        lg = True\n",
    "    else:  \n",
    "        lg = False\n",
    "    \n",
    "    sns.lineplot(   data=df[(df['dataset']==dataset_name)],\n",
    "                    x='noise_var', y='MAE', hue='method', style='method',\n",
    "                    ax=axes[i,j],\n",
    "                    palette=color_palette,\n",
    "                    legend=lg\n",
    "                    ).set_title(dataset_name)\n",
    "\n",
    "                            \n",
    "\n",
    "    axes[i,j].set(ylabel='MAE', xlabel='Noise scale, $\\sigma$', yscale='linear', xticks=range(df.noise_var.max()+1))\n",
    "\n",
    "\n",
    "fig.legend(ncol=3,loc=\"upper center\", bbox_to_anchor=(0.5, 0.97))\n",
    "axes[0,0].get_legend().remove()\n",
    "# increase the vertical spacing between the subplots\n",
    "plt.tight_layout()\n",
    "fig.subplots_adjust(top=0.85, hspace=0.45)\n",
    "# fig.subplots_adjust(hspace=0.3)"
   ]
  },
  {
   "attachments": {},
   "cell_type": "markdown",
   "metadata": {},
   "source": [
    "## Hyper Training Size Lineplots (subplots)"
   ]
  },
  {
   "cell_type": "code",
   "execution_count": 4,
   "metadata": {},
   "outputs": [],
   "source": [
    "# set all Matplotlib fonts to Times New Roman\n",
    "plt.rcParams['font.family'] = 'Times New Roman'\n",
    "\n",
    "# datasets = ['Hyper-A', 'Hyper-I', 'Hyper-G', 'Hyper-LN', 'Hyper-RW', 'Hyper-GU']\n",
    "datasets = ['Hyper-A', 'Hyper-LN', 'Hyper-I', 'Hyper-RW', 'Hyper-G', 'Hyper-GU']\n",
    "methods = ['Naive', 'PH', 'DDM', 'ADWIN', 'KSWIN', 'MSMSA']\n",
    "color_palette = {'Naive':'#A46750', 'PH':'#EDB732', 'DDM':'#DA4C4C', 'ADWIN':'#A0C75C', 'KSWIN':'#E57439', 'MSMSA':'#5387DD'}\n",
    "\n",
    "# load logs.pkl file\n",
    "df = pd.read_pickle('logs.pkl')\n",
    "# df = df[df['dataset'].isin(datasets)]\n",
    "# df = df[df['method'].isin(methods)]\n",
    "\n",
    "\n",
    "fig, axes = plt.subplots(3, 2, figsize=(5, 9))\n",
    "for dataset in datasets:\n",
    "    dataset_name = dataset\n",
    "    i = datasets.index(dataset) // 2\n",
    "    j = datasets.index(dataset) % 2\n",
    "    if i == 0 and j == 0:\n",
    "        lg = True\n",
    "    else:  \n",
    "        lg = False\n",
    "    \n",
    "    sns.lineplot(   data=df[(df['dataset']==dataset_name)],\n",
    "                    x='noise_var', y='MeanValidityHorizon', hue='method', style='method',\n",
    "                    ax=axes[i,j],\n",
    "                    palette=color_palette,\n",
    "                    legend=lg,\n",
    "    \n",
    "                    ).set_title(dataset_name)\n",
    "\n",
    "                            \n",
    "\n",
    "    axes[i,j].set(ylabel='Average training size', xlabel='Noise scale, $\\sigma$', yscale='log', ylim=(20, 1000), xticks=range(df.noise_var.max()+1))\n",
    "\n",
    "\n",
    "\n",
    "fig.legend(ncol=3,loc=\"upper center\", bbox_to_anchor=(0.5, 0.97))\n",
    "axes[0,0].get_legend().remove()\n",
    "# increase the vertical spacing between the subplots\n",
    "plt.tight_layout()\n",
    "fig.subplots_adjust(top=0.85, hspace=0.45)\n",
    "# fig.subplots_adjust(hspace=0.3)"
   ]
  },
  {
   "attachments": {},
   "cell_type": "markdown",
   "metadata": {},
   "source": [
    "## Real-world Training Size Barplot"
   ]
  },
  {
   "cell_type": "code",
   "execution_count": 11,
   "metadata": {},
   "outputs": [],
   "source": [
    "df = pd.read_pickle('logs_teconer.pkl')\n",
    "# df = pd.read_pickle('logs_real_taxi_test2.pkl')\n",
    "datasets = ['Bike (daily)', 'Bike (hourly)', 'Household energy', 'Friction']\n",
    "datasets = ['Teconer']\n",
    "# use sns barplot with df grouped by dataset, method, and learning_model across MAE\n",
    "# print(df.groupby(['dataset', 'method','learning_model'])['MeanValidityHorizon'].mean())\n",
    "# df_ = df.groupby(['method','learning_model'])['MeanValidityHorizon'].mean()\n",
    "# sns.barplot(data=df, x='dataset', y='MAE', hue='method', palette=color_palette)\n",
    "\n",
    "# select methods == 'MSMSA' from df as df_\n",
    "\n",
    "fig, axes = plt.subplots(2, 2, figsize=(8, 6))\n",
    "\n",
    "# create a loop to plot each dataset in a subplot\n",
    "for dataset in datasets:\n",
    "    i = datasets.index(dataset) // 2\n",
    "    j = datasets.index(dataset) % 2\n",
    "    df_ = df[df['dataset']==dataset]\n",
    "    sns.barplot(\n",
    "        ax=axes[i,j],\n",
    "        data=df_,\n",
    "        x=\"method\", y=\"MeanValidityHorizon\", hue=\"learning_model\", palette='Set2',\n",
    "        errorbar=\"sd\", log=True, width=0.5, errwidth=1.5\n",
    "    ).set_title(dataset)\n",
    "    axes[i,j].set(ylabel='Average training size', xlabel=None, yscale='log')\n",
    "    # remove the legend from the subplots\n",
    "    axes[i,j].get_legend().remove()\n",
    "    for item in axes[i,j].get_xticklabels():\n",
    "        item.set_rotation(45)\n",
    "fig.legend(ncol=2,loc=\"upper center\", bbox_to_anchor=(0.5, 0.97),)\n",
    "# keep the legend for the first subplot\n",
    "# axes[0,0].get_legend().remove()\n",
    "plt.tight_layout()\n",
    "fig.subplots_adjust(top=0.85, hspace=0.45)\n",
    "\n",
    "plt.tight_layout()\n",
    "\n",
    "\n",
    "# print(df.groupby(['dataset', 'method','learning_model'])['MeanValidityHorizon'].mean()['Air quality'])\n",
    "\n"
   ]
  },
  {
   "cell_type": "code",
   "execution_count": 5,
   "metadata": {},
   "outputs": [
    {
     "name": "stdout",
     "output_type": "stream",
     "text": [
      "dataset           method  learning_model       \n",
      "Bike (daily)      ADWIN   DecisionTreeRegressor       686.935733\n",
      "                  DDM     DecisionTreeRegressor       686.947530\n",
      "                  KSWIN   DecisionTreeRegressor       699.169498\n",
      "                  MSMSA   DecisionTreeRegressor       709.644686\n",
      "                  Naive   DecisionTreeRegressor       707.340817\n",
      "                  PH      DecisionTreeRegressor       690.440296\n",
      "Bike (hourly)     ADWIN   DecisionTreeRegressor       107.896748\n",
      "                  DDM     DecisionTreeRegressor       107.034218\n",
      "                  KSWIN   DecisionTreeRegressor       108.722149\n",
      "                  MSMSA   DecisionTreeRegressor       104.100616\n",
      "                  Naive   DecisionTreeRegressor       106.216538\n",
      "                  PH      DecisionTreeRegressor       107.803447\n",
      "Household energy  ADWIN   DecisionTreeRegressor         0.302917\n",
      "                  DDM     DecisionTreeRegressor         0.534363\n",
      "                  KSWIN   DecisionTreeRegressor         0.241944\n",
      "                  MSMSA   DecisionTreeRegressor         0.230273\n",
      "                  Naive   DecisionTreeRegressor         0.851901\n",
      "                  PH      DecisionTreeRegressor         0.339472\n",
      "Melbourn housing  ADWIN   DecisionTreeRegressor    272479.993595\n",
      "                  DDM     DecisionTreeRegressor    271501.271248\n",
      "                  KSWIN   DecisionTreeRegressor    307296.022842\n",
      "                  MSMSA   DecisionTreeRegressor    339930.800283\n",
      "                  Naive   DecisionTreeRegressor    272578.131934\n",
      "                  PH      DecisionTreeRegressor    281352.222482\n",
      "Name: MAE, dtype: float64\n"
     ]
    }
   ],
   "source": [
    "df = pd.read_pickle('logs_msmsa_plus_test.pkl')\n",
    "# df = pd.read_pickle('logs_teconer.pkl')\n",
    "# print(df.groupby(['dataset', 'method','learning_model'])['MAE'].mean()['Teconer'])\n",
    "print(df.groupby(['dataset', 'method','learning_model'])['MAE'].mean())"
   ]
  },
  {
   "cell_type": "code",
   "execution_count": null,
   "metadata": {},
   "outputs": [],
   "source": []
  }
 ],
 "metadata": {
  "kernelspec": {
   "display_name": "base",
   "language": "python",
   "name": "python3"
  },
  "language_info": {
   "codemirror_mode": {
    "name": "ipython",
    "version": 3
   },
   "file_extension": ".py",
   "mimetype": "text/x-python",
   "name": "python",
   "nbconvert_exporter": "python",
   "pygments_lexer": "ipython3",
   "version": "3.9.0"
  },
  "orig_nbformat": 4
 },
 "nbformat": 4,
 "nbformat_minor": 2
}
