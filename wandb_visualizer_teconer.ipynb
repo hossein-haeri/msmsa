{
 "cells": [
  {
   "cell_type": "code",
   "execution_count": null,
   "metadata": {},
   "outputs": [],
   "source": [
    "import wandb\n",
    "import numpy as np\n",
    "import pandas as pd\n",
    "import seaborn as sns\n",
    "import matplotlib.pyplot as plt\n"
   ]
  },
  {
   "cell_type": "code",
   "execution_count": null,
   "metadata": {},
   "outputs": [],
   "source": [
    "# Initialize the API\n",
    "api = wandb.Api()\n",
    "\n",
    "# Specify your project details\n",
    "entity = \"haeri-hsn\"  # Replace with your wandb entity\n",
    "project = \"stream_learning\"  # Replace with your wandb project name\n",
    "\n",
    "# Define filters\n",
    "filters = {\n",
    "    'state': 'finished',  # Only fetch finished runs\n",
    "    'tags': {'$in': ['final_real']}  # Runs containing a specific tag msmsa_horizon_analysis_melbourne_housing \\ msmsa_anchor_analysis_melbourne_housing\n",
    "}\n",
    "\n",
    "# Query runs with filters\n",
    "runs = api.runs(f\"{entity}/{project}\", filters=filters)\n",
    "\n",
    "# print number of runs\n",
    "print(f\"Number of runs: {len(runs)}\")"
   ]
  }
 ],
 "metadata": {
  "language_info": {
   "name": "python"
  }
 },
 "nbformat": 4,
 "nbformat_minor": 2
}
