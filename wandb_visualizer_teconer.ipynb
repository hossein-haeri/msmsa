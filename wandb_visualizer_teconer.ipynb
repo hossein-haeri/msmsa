{
 "cells": [
  {
   "cell_type": "code",
   "execution_count": 79,
   "metadata": {},
   "outputs": [],
   "source": [
    "import wandb\n",
    "import numpy as np\n",
    "import pandas as pd\n",
    "import seaborn as sns\n",
    "import matplotlib.pyplot as plt\n"
   ]
  },
  {
   "cell_type": "code",
   "execution_count": 80,
   "metadata": {},
   "outputs": [
    {
     "name": "stdout",
     "output_type": "stream",
     "text": [
      "Number of runs: 343\n"
     ]
    }
   ],
   "source": [
    "# Initialize the API\n",
    "api = wandb.Api()\n",
    "\n",
    "# Specify your project details\n",
    "entity = \"haeri-hsn\"  # Replace with your wandb entity\n",
    "project = \"stream_learning\"  # Replace with your wandb project name\n",
    "\n",
    "# Define filters\n",
    "filters = {\n",
    "    'state': 'finished',  # Only fetch finished runs\n",
    "    'tags': {'$in': ['teconer_final']}  # Runs containing a specific tag msmsa_horizon_analysis_melbourne_housing \\ msmsa_anchor_analysis_melbourne_housing\n",
    "}\n",
    "\n",
    "# Query runs with filters\n",
    "runs = api.runs(f\"{entity}/{project}\", filters=filters)\n",
    "\n",
    "# print number of runs\n",
    "print(f\"Number of runs: {len(runs)}\")"
   ]
  },
  {
   "cell_type": "code",
   "execution_count": 86,
   "metadata": {},
   "outputs": [
    {
     "name": "stdout",
     "output_type": "stream",
     "text": [
      "Index(['name', 'seed', 'tags', 'dataset', 'epsilon', 'wandb_log',\n",
      "       'base_learner', 'online_model', '_step', '_timestamp',\n",
      "       'preview_duration', 'average_records_per_trip', '_wandb', '_runtime',\n",
      "       'RMSE', 'online_models', 'learning_model', 'R2', 'MAE',\n",
      "       'average_ahead_records', 'TMI'],\n",
      "      dtype='object')\n",
      "['Teconer_Downtown_10K' 'Teconer_Jan_100K' 'Teconer_Jan_1M'\n",
      " 'Teconer_Downtown_100K' 'Teconer_Jan_10K' 'Teconer_Downtown_1M']\n"
     ]
    }
   ],
   "source": [
    "# Extract data from each run\n",
    "summary_list = []\n",
    "config_list = []\n",
    "name_list = []\n",
    "for run in runs:\n",
    "    # run.summary contains the output of the training\n",
    "    summary_list.append(run.summary._json_dict)\n",
    "\n",
    "    # run.config contains the hyperparameters\n",
    "    config_list.append({k: v for k, v in run.config.items() if not k.startswith('_')})\n",
    "\n",
    "    # run.name is the name of the run.\n",
    "    name_list.append(run.name)\n",
    "\n",
    "# Convert to DataFrame\n",
    "summary_df = pd.DataFrame.from_records(summary_list)\n",
    "config_df = pd.DataFrame.from_records(config_list)\n",
    "name_df = pd.DataFrame({'name': name_list})\n",
    "\n",
    "# Combine all parts into one DataFrame\n",
    "df = pd.concat([name_df, config_df, summary_df], axis=1)\n",
    "# remove the columns that are repeated\n",
    "df['preview_duration'] = df['preview_duration'].astype('float')/60\n",
    "df = df.loc[:, ~df.columns.duplicated()]\n",
    "# change the name of the metrics and remove metric_ from the name\n",
    "df = df.rename(columns=lambda x: x.replace(\"metric_\", \"\"))\n",
    "# Display the DataFrame\n",
    "print(df.columns)\n",
    "\n",
    "# print the values of the dataset (unique values)\n",
    "print(df['dataset'].unique())\n",
    "\n",
    "\n",
    "\n"
   ]
  },
  {
   "cell_type": "code",
   "execution_count": 88,
   "metadata": {},
   "outputs": [],
   "source": [
    "%matplotlib qt\n",
    "\n",
    "\n",
    "\n",
    "datasets = list(df['dataset'].unique())\n",
    "\n",
    "for dataset in datasets:\n",
    "    df_ = df[(df['dataset'] == dataset)]\n",
    "    f, axs = plt.subplots(1, 3, figsize=(15, 5))\n",
    "    for i, metric in enumerate(['R2', 'RMSE', 'MAE']):\n",
    "        # plot barplot of R2 scores for different epsilon values and different preview durations\n",
    "        sns.set_theme(style=\"whitegrid\")\n",
    "        # Try using .loc[row_indexer,col_indexer] = value instead\n",
    "        sns.barplot(data=df_, x=\"epsilon\", y=metric, hue=\"preview_duration\", errorbar=\"sd\", palette=\"coolwarm\", ax=axs[i])\n",
    "        axs[i].set_xlabel(\"epsilon\")\n",
    "        axs[i].set_ylabel(metric)\n",
    "        # rename legend title\n",
    "        axs[i].legend(title=\"Preview [min]\")\n",
    "    f.set_size_inches(12, 5)\n",
    "    f.suptitle(dataset)\n",
    "    plt.tight_layout()\n",
    "    \n",
    "plt.show()\n",
    "\n",
    "\n",
    "\n"
   ]
  },
  {
   "cell_type": "code",
   "execution_count": 90,
   "metadata": {},
   "outputs": [],
   "source": [
    "%matplotlib qt\n",
    "\n",
    "\n",
    "# print average_ahead_records for each dataset, and preview_duration in a table\n",
    "df_ = df.groupby(['dataset', 'preview_duration'])['average_ahead_records'].mean().reset_index()\n",
    "df_ = df_.pivot(index='dataset', columns='preview_duration', values='average_ahead_records')\n",
    "df_ = df_.fillna(0)\n",
    "# df_ = df_.sort_values(by='dataset', ascending=False)\n",
    "# sort df_ based on the dataset names (given in the list)\n",
    "df_ = df_.reindex(['Teconer_Jan_10K', 'Teconer_Jan_100K', 'Teconer_Jan_1M','Teconer_Downtown_10K', 'Teconer_Downtown_100K', 'Teconer_Downtown_1M'])\n",
    "df_ = df_.round(2)\n",
    "sns.heatmap(df_, annot=True, cmap=\"coolwarm\", fmt=\".2f\", cbar=False)\n",
    "plt.title('Average Number of Requested Preview Points')\n",
    "plt.xlabel('Preview [min]')\n",
    "plt.ylabel('Dataset')\n",
    "plt.tight_layout()\n",
    "plt.show()\n",
    "\n"
   ]
  },
  {
   "cell_type": "code",
   "execution_count": 98,
   "metadata": {},
   "outputs": [
    {
     "name": "stderr",
     "output_type": "stream",
     "text": [
      "/var/folders/f2/z3hnbbhd2h75ldsdvjnzt20m0000gn/T/ipykernel_93532/3507221662.py:9: UserWarning: Ignoring `palette` because no `hue` variable has been assigned.\n",
      "  sns.lineplot(data=df_, x='dataset', y='average_records_per_trip', palette='coolwarm')\n"
     ]
    }
   ],
   "source": [
    "%matplotlib qt\n",
    "\n",
    "\n",
    "# lineplot average trip duration for each dataset\n",
    "# only records that have Downtown in their dataset name\n",
    "# df_ = df\n",
    "df_ = df[df['dataset'].str.contains(\"Downtown\")].groupby('dataset')['average_records_per_trip'].mean().reset_index()\n",
    "df_ = df_.sort_values(by='average_records_per_trip', ascending=False)\n",
    "sns.lineplot(data=df_, x='dataset', y='average_records_per_trip', palette='coolwarm')\n",
    "plt.xticks(rotation=45)\n",
    "plt.title('Average Number of Records per Trip')\n",
    "plt.ylabel('Average Number of Records per Trip')\n",
    "plt.tight_layout()\n",
    "plt.show()\n"
   ]
  }
 ],
 "metadata": {
  "kernelspec": {
   "display_name": "Python 3",
   "language": "python",
   "name": "python3"
  },
  "language_info": {
   "codemirror_mode": {
    "name": "ipython",
    "version": 3
   },
   "file_extension": ".py",
   "mimetype": "text/x-python",
   "name": "python",
   "nbconvert_exporter": "python",
   "pygments_lexer": "ipython3",
   "version": "3.12.1"
  }
 },
 "nbformat": 4,
 "nbformat_minor": 2
}
