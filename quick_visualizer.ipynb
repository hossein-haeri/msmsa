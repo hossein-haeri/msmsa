{
 "cells": [
  {
   "cell_type": "code",
   "execution_count": 25,
   "metadata": {},
   "outputs": [
    {
     "name": "stdout",
     "output_type": "stream",
     "text": [
      "dataset  method  learning_model       \n",
      "Teconer  ADWIN   DecisionTreeRegressor    0.061911\n",
      "                 Ridge                    0.085861\n",
      "         DDM     DecisionTreeRegressor    0.111593\n",
      "                 Ridge                    0.129193\n",
      "         KSWIN   DecisionTreeRegressor    0.052164\n",
      "                 Ridge                    0.073299\n",
      "         MSMSA   DecisionTreeRegressor    0.052412\n",
      "                 Ridge                    0.070726\n",
      "         Naive   DecisionTreeRegressor    0.110613\n",
      "                 Ridge                    0.129196\n",
      "         PH      DecisionTreeRegressor    0.057652\n",
      "                 Ridge                    0.080962\n",
      "Name: MAE, dtype: float64\n"
     ]
    }
   ],
   "source": [
    "import numpy as np\n",
    "import matplotlib.pyplot as plt\n",
    "import pandas as pd\n",
    "import seaborn as sns\n",
    "# close all previous plots\n",
    "plt.close('all')\n",
    "\n",
    "%matplotlib qt\n",
    "\n",
    "df = pd.read_pickle('test_.pkl')\n",
    "# df = pd.read_pickle('logs_teconer.pkl')\n",
    "# print(df.groupby(['dataset', 'method','learning_model'])['MAE'].mean()['Teconer'])\n",
    "print(df.groupby(['dataset', 'method','learning_model'])['MAE'].mean())\n",
    "\n",
    "# create a figure and a set of subplots\n",
    "fig, axes = plt.subplots(nrows=1, ncols=2)\n",
    "\n",
    "plot1 = sns.barplot(ax=axes[0], x='dataset', y='MAE', hue='method', data=df.loc[df['learning_model'] == 'DecisionTreeRegressor'], width=0.8, legend=False)\n",
    "plot2 = sns.barplot(ax=axes[1], x='dataset', y='MAE', hue='method', data=df.loc[df['learning_model'] == 'Ridge'], width=0.8)\n",
    "\n",
    "# move the legend of plot1 to the right\n",
    "plot2.legend(loc='upper right', bbox_to_anchor=(2, 1), title='Method')\n",
    "# make room for the legend of plot1\n",
    "fig.tight_layout()\n",
    "\n",
    "\n",
    "\n"
   ]
  },
  {
   "cell_type": "markdown",
   "metadata": {},
   "source": []
  }
 ],
 "metadata": {
  "kernelspec": {
   "display_name": "Python 3",
   "language": "python",
   "name": "python3"
  },
  "language_info": {
   "codemirror_mode": {
    "name": "ipython",
    "version": 3
   },
   "file_extension": ".py",
   "mimetype": "text/x-python",
   "name": "python",
   "nbconvert_exporter": "python",
   "pygments_lexer": "ipython3",
   "version": "3.12.1"
  }
 },
 "nbformat": 4,
 "nbformat_minor": 2
}
